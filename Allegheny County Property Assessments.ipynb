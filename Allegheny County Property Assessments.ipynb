{
 "metadata": {
  "name": "",
  "signature": "sha256:a5da093d2f68d957d554c620f87ca7d8aa2c1aa76683efe88c8ff29af2fe8443"
 },
 "nbformat": 3,
 "nbformat_minor": 0,
 "worksheets": [
  {
   "cells": [
    {
     "cell_type": "code",
     "collapsed": false,
     "input": [
      "# capture/alleghenycountymasterfile12012016.csv from https://data.wprdc.org/dataset/property-assessments\n",
      "# capture/Allegheny_County_Parcel_Boundaries.geojson from https://data.wprdc.org/dataset/allegheny-county-parcel-boundaries\n",
      "import array, csv, datetime, json, math, os, random\n",
      "from dateutil.parser import parse\n",
      "from shapely.geometry import mapping, shape\n",
      "\n",
      "def LonLatToPixelXY(lonlat):\n",
      "    (lon, lat) = lonlat\n",
      "    x = (lon + 180.0) * 256.0 / 360.0\n",
      "    y = 128.0 - math.log(math.tan((lat + 90.0) * math.pi / 360.0)) * 128.0 / math.pi\n",
      "    return [x, y]\n",
      "\n",
      "\n",
      "def GetCentroid(geometry):\n",
      "    s = shape(geometry)\n",
      "    return (s.centroid.x, s.centroid.y)    "
     ],
     "language": "python",
     "metadata": {},
     "outputs": [],
     "prompt_number": 18
    },
    {
     "cell_type": "code",
     "collapsed": false,
     "input": [
      "data = []\n",
      "with open(\"capture/alleghenycountymasterfile12012016.csv\", \"rb\") as csvfile:\n",
      "    reader = csv.DictReader(csvfile)\n",
      "    for line in reader:\n",
      "        data.append(line)\n",
      "print(len(data))\n",
      "data[0]\n"
     ],
     "language": "python",
     "metadata": {},
     "outputs": [
      {
       "output_type": "stream",
       "stream": "stdout",
       "text": [
        "576859\n"
       ]
      },
      {
       "metadata": {},
       "output_type": "pyout",
       "prompt_number": 2,
       "text": [
        "{'ABATEMENTFLAG': '',\n",
        " 'ALT_ID': '',\n",
        " 'ASOFDATE': '01-DEC-16',\n",
        " 'BASEMENT': '',\n",
        " 'BASEMENTDESC': '',\n",
        " 'BEDROOMS': '',\n",
        " 'BSMTGARAGE': '',\n",
        " 'CARDNUMBER': '',\n",
        " 'CDU': '',\n",
        " 'CDUDESC': '',\n",
        " 'CHANGENOTICEADDRESS1': '740   TRUMBULL DR   ',\n",
        " 'CHANGENOTICEADDRESS2': '  ',\n",
        " 'CHANGENOTICEADDRESS3': 'PITTSBURGH PA  ',\n",
        " 'CHANGENOTICEADDRESS4': '15205',\n",
        " 'CLASS': 'C',\n",
        " 'CLASSDESC': 'COMMERCIAL',\n",
        " 'CLEANGREEN': '',\n",
        " 'CONDITION': '',\n",
        " 'CONDITIONDESC': '',\n",
        " 'COUNTYBUILDING': '0',\n",
        " 'COUNTYEXEMPTBLDG': '0',\n",
        " 'COUNTYLAND': '5000',\n",
        " 'COUNTYTOTAL': '5000',\n",
        " 'DEEDBOOK': '10040',\n",
        " 'DEEDPAGE': '464',\n",
        " 'EXTERIORFINISH': '',\n",
        " 'EXTFINISH_DESC': '',\n",
        " 'FAIRMARKETBUILDING': '0',\n",
        " 'FAIRMARKETLAND': '5000',\n",
        " 'FAIRMARKETTOTAL': '5000',\n",
        " 'FARMSTEADFLAG': '',\n",
        " 'FINISHEDLIVINGAREA': '',\n",
        " 'FIREPLACES': '',\n",
        " 'FULLBATHS': '',\n",
        " 'GRADE': '',\n",
        " 'GRADEDESC': '',\n",
        " 'HALFBATHS': '',\n",
        " 'HEATINGCOOLING': '',\n",
        " 'HEATINGCOOLINGDESC': '',\n",
        " 'HOMESTEADFLAG': '',\n",
        " 'LEGAL1': 'LOT 18X52.58',\n",
        " 'LEGAL2': '1 1/2X18 1/2 PRIVATE AY',\n",
        " 'LEGAL3': 'GATEWAY (6X12) OLA',\n",
        " 'LOCALBUILDING': '0',\n",
        " 'LOCALLAND': '5000',\n",
        " 'LOCALTOTAL': '5000',\n",
        " 'LOTAREA': '1908',\n",
        " 'MUNICODE': '101',\n",
        " 'MUNIDESC': '1st Ward  - PITTSBURGH',\n",
        " 'NEIGHCODE': '51C02',\n",
        " 'NEIGHDESC': 'PITTSBURGH URBAN',\n",
        " 'OWNERCODE': '20',\n",
        " 'OWNERDESC': 'CORPORATION',\n",
        " 'PARID': '0002J00231000000',\n",
        " 'PREVSALEDATE': '',\n",
        " 'PREVSALEDATE2': '',\n",
        " 'PREVSALEPRICE': '',\n",
        " 'PREVSALEPRICE2': '',\n",
        " 'PROPERTYADDRESS': '2ND AVE',\n",
        " 'PROPERTYCITY': 'PITTSBURGH',\n",
        " 'PROPERTYFRACTION': '',\n",
        " 'PROPERTYHOUSENUM': '0',\n",
        " 'PROPERTYSTATE': 'PA',\n",
        " 'PROPERTYUNIT': ' ',\n",
        " 'PROPERTYZIP': '15219',\n",
        " 'RECORDDATE': '',\n",
        " 'ROOF': '',\n",
        " 'ROOFDESC': '',\n",
        " 'SALECODE': '8',\n",
        " 'SALEDATE': '09-24-1997',\n",
        " 'SALEDESC': 'OTHER',\n",
        " 'SALEPRICE': '5082125',\n",
        " 'SCHOOLCODE': '47',\n",
        " 'SCHOOLDESC': 'City Of Pittsburgh',\n",
        " 'STORIES': '',\n",
        " 'STYLE': '',\n",
        " 'STYLEDESC': '',\n",
        " 'TAXCODE': 'T',\n",
        " 'TAXDESC': '20 - Taxable',\n",
        " 'TAXSUBCODE': '',\n",
        " 'TAXSUBCODE_DESC': '',\n",
        " 'TAXYEAR': '2016',\n",
        " 'TOTALROOMS': '',\n",
        " 'USECODE': '400',\n",
        " 'USEDESC': 'VACANT COMMERCIAL LAND',\n",
        " 'YEARBLT': ''}"
       ]
      }
     ],
     "prompt_number": 2
    },
    {
     "cell_type": "code",
     "collapsed": false,
     "input": [
      "with open(\"capture/Allegheny_County_Parcel_Boundaries.geojson\") as f:\n",
      "    parcel_json = json.load(f)\n",
      "len(parcel_json['features'])"
     ],
     "language": "python",
     "metadata": {},
     "outputs": [
      {
       "metadata": {},
       "output_type": "pyout",
       "prompt_number": 3,
       "text": [
        "579644"
       ]
      }
     ],
     "prompt_number": 3
    },
    {
     "cell_type": "code",
     "collapsed": false,
     "input": [
      "print parcel_json['features'][0]['properties']['PIN']\n",
      "print data[0]['PARID']"
     ],
     "language": "python",
     "metadata": {},
     "outputs": [
      {
       "output_type": "stream",
       "stream": "stdout",
       "text": [
        "0297J00044000000\n",
        "0002J00231000000\n"
       ]
      }
     ],
     "prompt_number": 4
    },
    {
     "cell_type": "code",
     "collapsed": false,
     "input": [
      "data_idx = {}\n",
      "for i in range(0, len(data)):\n",
      "    par_id = data[i]['PARID']\n",
      "    data_idx[par_id] = i\n",
      "    \n",
      "parcel_idx = {}\n",
      "for i in range(0,len(parcel_json[\"features\"])):\n",
      "    pin = parcel_json['features'][i]['properties']['PIN']    \n",
      "    parcel_idx[pin] = i\n",
      "              "
     ],
     "language": "python",
     "metadata": {},
     "outputs": [],
     "prompt_number": 14
    },
    {
     "cell_type": "code",
     "collapsed": false,
     "input": [
      "points = []\n",
      "missed = 0\n",
      "for row in data:\n",
      "    par_id = row['PARID']\n",
      "    if parcel_idx.has_key(par_id):\n",
      "        parcel_id = parcel_idx[par_id]\n",
      "        centroid = GetCentroid(parcel_json[\"features\"][parcel_id][\"geometry\"])\n",
      "        points += LonLatToPixelXY(centroid)\n",
      "    else:\n",
      "        missed += 1\n",
      "array.array('f', points).tofile(open('parcels.bin', 'wb'))\n"
     ],
     "language": "python",
     "metadata": {},
     "outputs": [],
     "prompt_number": 20
    },
    {
     "cell_type": "code",
     "collapsed": false,
     "input": [
      "missed"
     ],
     "language": "python",
     "metadata": {},
     "outputs": [
      {
       "metadata": {},
       "output_type": "pyout",
       "prompt_number": 21,
       "text": [
        "1070"
       ]
      }
     ],
     "prompt_number": 21
    },
    {
     "cell_type": "code",
     "collapsed": false,
     "input": [],
     "language": "python",
     "metadata": {},
     "outputs": []
    }
   ],
   "metadata": {}
  }
 ]
}
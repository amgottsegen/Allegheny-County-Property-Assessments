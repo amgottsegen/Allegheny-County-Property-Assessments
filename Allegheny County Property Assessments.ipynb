{
 "metadata": {
  "name": "",
  "signature": "sha256:e490d6d82cf23a43856ef9ebcd4a4de45c8732a6760a3cf6549d73353afa777e"
 },
 "nbformat": 3,
 "nbformat_minor": 0,
 "worksheets": [
  {
   "cells": [
    {
     "cell_type": "code",
     "collapsed": false,
     "input": [
      "# capture/alleghenycountymasterfile12012016.csv from https://data.wprdc.org/dataset/property-assessments\n",
      "# capture/Allegheny_County_Parcel_Boundaries.geojson from https://data.wprdc.org/dataset/allegheny-county-parcel-boundaries\n",
      "import array, csv, datetime, json, math, os, random\n",
      "from dateutil.parser import parse\n",
      "from shapely.geometry import mapping, shape\n",
      "from PIL import Image\n",
      "import matplotlib.colors as colors\n",
      "\n",
      "def LonLatToPixelXY(lonlat):\n",
      "    (lon, lat) = lonlat\n",
      "    x = (lon + 180.0) * 256.0 / 360.0\n",
      "    y = 128.0 - math.log(math.tan((lat + 90.0) * math.pi / 360.0)) * 128.0 / math.pi\n",
      "    return [x, y]\n",
      "\n",
      "\n",
      "def GetCentroid(geometry):\n",
      "    s = shape(geometry)\n",
      "    return (s.centroid.x, s.centroid.y)   \n",
      "\n",
      "def GetEpoch(date):\n",
      "    return (date - datetime.datetime(1970, 1, 1)).total_seconds()\n",
      "\n",
      "def HexToRgb(hex_string):\n",
      "    rgb = colors.hex2color(hex_string)\n",
      "    r,g,b = tuple([int(255*x) for x in rgb])\n",
      "    return (r,g,b)"
     ],
     "language": "python",
     "metadata": {},
     "outputs": [],
     "prompt_number": 1
    },
    {
     "cell_type": "code",
     "collapsed": false,
     "input": [
      "data = []\n",
      "with open(\"capture/alleghenycountymasterfile12012016.csv\", \"rb\") as csvfile:\n",
      "    reader = csv.DictReader(csvfile)\n",
      "    for line in reader:\n",
      "        data.append(line)\n",
      "print(len(data))\n",
      "data[10]\n"
     ],
     "language": "python",
     "metadata": {},
     "outputs": [
      {
       "output_type": "stream",
       "stream": "stdout",
       "text": [
        "576859\n"
       ]
      },
      {
       "metadata": {},
       "output_type": "pyout",
       "prompt_number": 2,
       "text": [
        "{'ABATEMENTFLAG': '',\n",
        " 'ALT_ID': '',\n",
        " 'ASOFDATE': '01-DEC-16',\n",
        " 'BASEMENT': '',\n",
        " 'BASEMENTDESC': '',\n",
        " 'BEDROOMS': '',\n",
        " 'BSMTGARAGE': '',\n",
        " 'CARDNUMBER': '',\n",
        " 'CDU': '',\n",
        " 'CDUDESC': '',\n",
        " 'CHANGENOTICEADDRESS1': '414   GRANT ST  RM 200',\n",
        " 'CHANGENOTICEADDRESS2': ' CITY-COUNTY BUILDING ',\n",
        " 'CHANGENOTICEADDRESS3': 'PITTSBURGH PA  ',\n",
        " 'CHANGENOTICEADDRESS4': '15219',\n",
        " 'CLASS': 'G',\n",
        " 'CLASSDESC': 'GOVERNMENT',\n",
        " 'CLEANGREEN': '',\n",
        " 'CONDITION': '',\n",
        " 'CONDITIONDESC': '',\n",
        " 'COUNTYBUILDING': '0',\n",
        " 'COUNTYEXEMPTBLDG': '0',\n",
        " 'COUNTYLAND': '33700',\n",
        " 'COUNTYTOTAL': '33700',\n",
        " 'DEEDBOOK': '',\n",
        " 'DEEDPAGE': '',\n",
        " 'EXTERIORFINISH': '',\n",
        " 'EXTFINISH_DESC': '',\n",
        " 'FAIRMARKETBUILDING': '0',\n",
        " 'FAIRMARKETLAND': '33700',\n",
        " 'FAIRMARKETTOTAL': '33700',\n",
        " 'FARMSTEADFLAG': '',\n",
        " 'FINISHEDLIVINGAREA': '',\n",
        " 'FIREPLACES': '',\n",
        " 'FULLBATHS': '',\n",
        " 'GRADE': '',\n",
        " 'GRADEDESC': '',\n",
        " 'HALFBATHS': '',\n",
        " 'HEATINGCOOLING': '',\n",
        " 'HEATINGCOOLINGDESC': '',\n",
        " 'HOMESTEADFLAG': '',\n",
        " 'LEGAL1': 'FIRST WARD MEMORIAL LOT 83.42XAVG34.72X105.09',\n",
        " 'LEGAL2': '',\n",
        " 'LEGAL3': '',\n",
        " 'LOCALBUILDING': '0',\n",
        " 'LOCALLAND': '33700',\n",
        " 'LOCALTOTAL': '33700',\n",
        " 'LOTAREA': '11620',\n",
        " 'MUNICODE': '101',\n",
        " 'MUNIDESC': '1st Ward  - PITTSBURGH',\n",
        " 'NEIGHCODE': '51C32',\n",
        " 'NEIGHDESC': 'PITTSBURGH URBAN',\n",
        " 'OWNERCODE': '20',\n",
        " 'OWNERDESC': 'CORPORATION',\n",
        " 'PARID': '0002K00002000000',\n",
        " 'PREVSALEDATE': '',\n",
        " 'PREVSALEDATE2': '',\n",
        " 'PREVSALEPRICE': '',\n",
        " 'PREVSALEPRICE2': '',\n",
        " 'PROPERTYADDRESS': 'FORBES AVE',\n",
        " 'PROPERTYCITY': 'PITTSBURGH',\n",
        " 'PROPERTYFRACTION': '',\n",
        " 'PROPERTYHOUSENUM': '0',\n",
        " 'PROPERTYSTATE': 'PA',\n",
        " 'PROPERTYUNIT': ' ',\n",
        " 'PROPERTYZIP': '15219',\n",
        " 'RECORDDATE': '',\n",
        " 'ROOF': '',\n",
        " 'ROOFDESC': '',\n",
        " 'SALECODE': '3',\n",
        " 'SALEDATE': '05-05-1950',\n",
        " 'SALEDESC': 'LOVE&AFFECTION',\n",
        " 'SALEPRICE': '0',\n",
        " 'SCHOOLCODE': '47',\n",
        " 'SCHOOLDESC': 'City Of Pittsburgh',\n",
        " 'STORIES': '',\n",
        " 'STYLE': '',\n",
        " 'STYLEDESC': '',\n",
        " 'TAXCODE': 'E',\n",
        " 'TAXDESC': '10 - Exempt',\n",
        " 'TAXSUBCODE': '',\n",
        " 'TAXSUBCODE_DESC': '',\n",
        " 'TAXYEAR': '2016',\n",
        " 'TOTALROOMS': '',\n",
        " 'USECODE': '640',\n",
        " 'USEDESC': 'MUNICIPAL GOVERNMENT',\n",
        " 'YEARBLT': ''}"
       ]
      }
     ],
     "prompt_number": 2
    },
    {
     "cell_type": "code",
     "collapsed": false,
     "input": [
      "with open(\"capture/Allegheny_County_Parcel_Boundaries.geojson\") as f:\n",
      "    parcel_json = json.load(f)\n",
      "len(parcel_json['features'])"
     ],
     "language": "python",
     "metadata": {},
     "outputs": [
      {
       "metadata": {},
       "output_type": "pyout",
       "prompt_number": 3,
       "text": [
        "579644"
       ]
      }
     ],
     "prompt_number": 3
    },
    {
     "cell_type": "code",
     "collapsed": false,
     "input": [
      "print parcel_json['features'][0]['properties']['PIN']\n",
      "print data[0]['PARID']"
     ],
     "language": "python",
     "metadata": {},
     "outputs": [
      {
       "output_type": "stream",
       "stream": "stdout",
       "text": [
        "0297J00044000000\n",
        "0002J00231000000\n"
       ]
      }
     ],
     "prompt_number": 4
    },
    {
     "cell_type": "code",
     "collapsed": false,
     "input": [
      "data_idx = {}\n",
      "for i in range(0, len(data)):\n",
      "    par_id = data[i]['PARID']\n",
      "    data_idx[par_id] = i\n",
      "    \n",
      "parcel_idx = {}\n",
      "for i in range(0,len(parcel_json[\"features\"])):\n",
      "    pin = parcel_json['features'][i]['properties']['PIN']    \n",
      "    parcel_idx[pin] = i\n",
      "              "
     ],
     "language": "python",
     "metadata": {},
     "outputs": [],
     "prompt_number": 5
    },
    {
     "cell_type": "code",
     "collapsed": false,
     "input": [
      "centroids = {}\n",
      "missed = []\n",
      "for row in data:\n",
      "    par_id = row['PARID']\n",
      "    if parcel_idx.has_key(par_id):\n",
      "        parcel_id = parcel_idx[par_id]\n",
      "        centroid = GetCentroid(parcel_json[\"features\"][parcel_id][\"geometry\"])\n",
      "        centroids[par_id] = centroid\n",
      "    else:\n",
      "        missed.append(par_id)\n"
     ],
     "language": "python",
     "metadata": {},
     "outputs": [],
     "prompt_number": 6
    },
    {
     "cell_type": "code",
     "collapsed": false,
     "input": [
      "len(missed)"
     ],
     "language": "python",
     "metadata": {},
     "outputs": [
      {
       "metadata": {},
       "output_type": "pyout",
       "prompt_number": 78,
       "text": [
        "1070"
       ]
      }
     ],
     "prompt_number": 78
    },
    {
     "cell_type": "code",
     "collapsed": false,
     "input": [
      "points = []\n",
      "missed_parcels = 0\n",
      "for row in data:\n",
      "    par_id = row['PARID']\n",
      "    if parcel_idx.has_key(par_id):\n",
      "        parcel_id = parcel_idx[par_id]\n",
      "        centroid = GetCentroid(parcel_json[\"features\"][parcel_id][\"geometry\"])\n",
      "        points += LonLatToPixelXY(centroid)\n",
      "    else:\n",
      "        missed_parcels += 1\n",
      "array.array('f', points).tofile(open('parcels.bin', 'wb'))\n"
     ],
     "language": "python",
     "metadata": {},
     "outputs": [],
     "prompt_number": 20
    },
    {
     "cell_type": "code",
     "collapsed": false,
     "input": [
      "missed"
     ],
     "language": "python",
     "metadata": {},
     "outputs": [
      {
       "metadata": {},
       "output_type": "pyout",
       "prompt_number": 21,
       "text": [
        "1070"
       ]
      }
     ],
     "prompt_number": 21
    },
    {
     "cell_type": "code",
     "collapsed": false,
     "input": [
      "sale_prices = {}\n",
      "for row in data:\n",
      "    sale_price = row['SALEPRICE']\n",
      "    if not sale_prices.has_key(sale_price):\n",
      "        sale_prices[sale_price] = 1\n",
      "    else:\n",
      "        sale_prices[sale_price] += 1\n"
     ],
     "language": "python",
     "metadata": {},
     "outputs": [],
     "prompt_number": 7
    },
    {
     "cell_type": "code",
     "collapsed": false,
     "input": [
      "len(sale_prices.keys())\n"
     ],
     "language": "python",
     "metadata": {},
     "outputs": [
      {
       "metadata": {},
       "output_type": "pyout",
       "prompt_number": 8,
       "text": [
        "30827"
       ]
      }
     ],
     "prompt_number": 8
    },
    {
     "cell_type": "code",
     "collapsed": false,
     "input": [
      "years_built = {}\n",
      "sale_dates = {}\n",
      "fairmarket_totals = {}\n",
      "classes = {}\n",
      "class_descs = {}\n",
      "\n",
      "def incrementKey(adict,key):\n",
      "    if not adict.has_key(key):\n",
      "        adict[key] = 1\n",
      "    else:\n",
      "        adict[key] += 1\n",
      "    \n",
      "for row in data:\n",
      "    year_built = row['YEARBLT']\n",
      "    incrementKey(years_built, year_built)\n",
      "    sale_date = row['SALEDATE']\n",
      "    incrementKey(sale_dates, sale_date)\n",
      "    fairmarket_total = row['FAIRMARKETTOTAL']\n",
      "    incrementKey(fairmarket_totals, fairmarket_total)\n",
      "    class_ = row['CLASS']\n",
      "    incrementKey(classes, class_)\n",
      "    class_desc = row['CLASSDESC']\n",
      "    incrementKey(class_descs, class_desc)\n"
     ],
     "language": "python",
     "metadata": {},
     "outputs": [],
     "prompt_number": 9
    },
    {
     "cell_type": "code",
     "collapsed": false,
     "input": [
      "len(years_built.keys())\n",
      "years_built['']"
     ],
     "language": "python",
     "metadata": {},
     "outputs": [
      {
       "metadata": {},
       "output_type": "pyout",
       "prompt_number": 10,
       "text": [
        "134779"
       ]
      }
     ],
     "prompt_number": 10
    },
    {
     "cell_type": "code",
     "collapsed": false,
     "input": [
      "points = []\n",
      "for row in data:\n",
      "    par_id = row['PARID']\n",
      "    year_built = row['YEARBLT']\n",
      "    if year_built == '' or year_built == '0':\n",
      "        year_built = '0001' # Null Value, -62135596800.0 Epoch\n",
      "    if centroids.has_key(par_id):\n",
      "        centroid = centroids[par_id]\n",
      "        points += LonLatToPixelXY(centroid)\n",
      "        date = datetime.datetime.strptime(year_built, '%Y')        \n",
      "        points.append(GetEpoch(date))\n",
      "array.array('f', points).tofile(open('parcels.bin', 'wb'))\n"
     ],
     "language": "python",
     "metadata": {},
     "outputs": [],
     "prompt_number": 111
    },
    {
     "cell_type": "code",
     "collapsed": false,
     "input": [
      "year_built\n",
      "date = datetime.datetime.strptime('2000', '%Y')   \n",
      "GetEpoch(date)"
     ],
     "language": "python",
     "metadata": {},
     "outputs": [
      {
       "metadata": {},
       "output_type": "pyout",
       "prompt_number": 110,
       "text": [
        "946684800.0"
       ]
      }
     ],
     "prompt_number": 110
    },
    {
     "cell_type": "code",
     "collapsed": false,
     "input": [
      "len(year_built"
     ],
     "language": "python",
     "metadata": {},
     "outputs": [
      {
       "metadata": {},
       "output_type": "pyout",
       "prompt_number": 104,
       "text": [
        "'0001'"
       ]
      }
     ],
     "prompt_number": 104
    },
    {
     "cell_type": "code",
     "collapsed": false,
     "input": [
      "fairmarket_totals['0']"
     ],
     "language": "python",
     "metadata": {},
     "outputs": [
      {
       "metadata": {},
       "output_type": "pyout",
       "prompt_number": 120,
       "text": [
        "2364"
       ]
      }
     ],
     "prompt_number": 120
    },
    {
     "cell_type": "code",
     "collapsed": false,
     "input": [
      "classes"
     ],
     "language": "python",
     "metadata": {},
     "outputs": [
      {
       "metadata": {},
       "output_type": "pyout",
       "prompt_number": 11,
       "text": [
        "{'C': 36807,\n",
        " 'F': 2489,\n",
        " 'G': 17242,\n",
        " 'I': 3766,\n",
        " 'O': 791,\n",
        " 'R': 513802,\n",
        " 'U': 1962}"
       ]
      }
     ],
     "prompt_number": 11
    },
    {
     "cell_type": "code",
     "collapsed": false,
     "input": [
      "class_descs"
     ],
     "language": "python",
     "metadata": {},
     "outputs": [
      {
       "metadata": {},
       "output_type": "pyout",
       "prompt_number": 12,
       "text": [
        "{'AGRICULTURAL': 2489,\n",
        " 'COMMERCIAL': 36807,\n",
        " 'GOVERNMENT': 17242,\n",
        " 'INDUSTRIAL': 3766,\n",
        " 'OTHER': 791,\n",
        " 'RESIDENTIAL': 513802,\n",
        " 'UTILITIES': 1962}"
       ]
      }
     ],
     "prompt_number": 12
    },
    {
     "cell_type": "code",
     "collapsed": false,
     "input": [
      "sorted(class_descs.keys())"
     ],
     "language": "python",
     "metadata": {},
     "outputs": [
      {
       "metadata": {},
       "output_type": "pyout",
       "prompt_number": 13,
       "text": [
        "['AGRICULTURAL',\n",
        " 'COMMERCIAL',\n",
        " 'GOVERNMENT',\n",
        " 'INDUSTRIAL',\n",
        " 'OTHER',\n",
        " 'RESIDENTIAL',\n",
        " 'UTILITIES']"
       ]
      }
     ],
     "prompt_number": 13
    },
    {
     "cell_type": "code",
     "collapsed": false,
     "input": [
      "no_year_built = 0\n",
      "no_= 0\n",
      "for row in data:\n",
      "    year_built = row['YEARBLT']\n",
      "    class_ = row['CLASS']\n",
      "    if year_built == '' and class_ == 'R':\n",
      "        no_year_built += 1\n",
      "    elif year_built == '':\n",
      "        no_ += 1\n",
      "print no_year_built\n",
      "print no_"
     ],
     "language": "python",
     "metadata": {},
     "outputs": [
      {
       "output_type": "stream",
       "stream": "stdout",
       "text": [
        "73279\n",
        "61500\n"
       ]
      }
     ],
     "prompt_number": 14
    },
    {
     "cell_type": "code",
     "collapsed": false,
     "input": [
      "class_descriptions = sorted(class_descs.keys())\n",
      "points = []\n",
      "for row in data:\n",
      "    par_id = row['PARID']\n",
      "    year_built = row['YEARBLT']\n",
      "    class_description = row['CLASSDESC']    \n",
      "    if year_built == '' or year_built == '0':\n",
      "        year_built = '0001' # Null Value, -62135596800.0 Epoch\n",
      "    if centroids.has_key(par_id):\n",
      "        centroid = centroids[par_id]\n",
      "        points += LonLatToPixelXY(centroid)\n",
      "        date = datetime.datetime.strptime(year_built, '%Y')        \n",
      "        points.append(GetEpoch(date))\n",
      "        points.append(class_descriptions.index(class_description))\n",
      "array.array('f', points).tofile(open('parcels.bin', 'wb'))\n"
     ],
     "language": "python",
     "metadata": {},
     "outputs": [],
     "prompt_number": 142
    },
    {
     "cell_type": "code",
     "collapsed": false,
     "input": [
      "foo = sorted(class_descs.keys())"
     ],
     "language": "python",
     "metadata": {},
     "outputs": [],
     "prompt_number": 137
    },
    {
     "cell_type": "code",
     "collapsed": false,
     "input": [
      "len(foo)"
     ],
     "language": "python",
     "metadata": {},
     "outputs": [
      {
       "metadata": {},
       "output_type": "pyout",
       "prompt_number": 141,
       "text": [
        "7"
       ]
      }
     ],
     "prompt_number": 141
    },
    {
     "cell_type": "code",
     "collapsed": false,
     "input": [
      "parcel_colors = ['#e41a1c','#377eb8','#4daf4a','#984ea3','#ff7f00','#ffff33','#a65628']"
     ],
     "language": "python",
     "metadata": {},
     "outputs": [],
     "prompt_number": 16
    },
    {
     "cell_type": "code",
     "collapsed": false,
     "input": [
      "for color in hex_colors:\n",
      "    rgb_color = HexToRgb(color)\n",
      "    print \"%s,%s,%s\" % (rgb_color[0]/255.0, rgb_color[1]/255.0, rgb_color[2]/255.0) "
     ],
     "language": "python",
     "metadata": {},
     "outputs": [
      {
       "output_type": "stream",
       "stream": "stdout",
       "text": [
        "0.894117647059,0.101960784314,0.109803921569\n",
        "0.21568627451,0.494117647059,0.721568627451\n",
        "0.301960784314,0.686274509804,0.290196078431\n",
        "0.596078431373,0.305882352941,0.639215686275\n",
        "1.0,0.498039215686,0.0\n",
        "1.0,1.0,0.2\n",
        "0.650980392157,0.337254901961,0.156862745098\n"
       ]
      }
     ],
     "prompt_number": 150
    },
    {
     "cell_type": "code",
     "collapsed": false,
     "input": [
      "hex_colors = [\"#fb3059\",\n",
      "\"#fe6b2d\",\n",
      "\"#d1947a\",\n",
      "\"#c6a900\",\n",
      "\"#02ca75\",\n",
      "\"#00a2de\",\n",
      "\"#9529b1\"]\n",
      "for color in hex_colors:\n",
      "    rgb_color = HexToRgb(color)\n",
      "    print \"%.4f,%.4f,%.4f\" % (rgb_color[0]/255.0, rgb_color[1]/255.0, rgb_color[2]/255.0) "
     ],
     "language": "python",
     "metadata": {},
     "outputs": [
      {
       "output_type": "stream",
       "stream": "stdout",
       "text": [
        "0.9843,0.1882,0.3490\n",
        "0.9961,0.4196,0.1765\n",
        "0.8196,0.5804,0.4784\n",
        "0.7765,0.6627,0.0000\n",
        "0.0078,0.7922,0.4588\n",
        "0.0000,0.6353,0.8706\n",
        "0.5843,0.1608,0.6941\n"
       ]
      }
     ],
     "prompt_number": 155
    },
    {
     "cell_type": "code",
     "collapsed": false,
     "input": [
      "hex_colors = ['#ffffff','#fffffa','#fffdf5','#fffdf1','#fffcef','#fffbed','#fffbea','#fff9e6','#fff9e3','#fff7e0','#fff7dd','#fff6db','#fff5d8','#fff4d6','#fff3d4','#fff3d2','#fff2d0','#fff0cd','#fff0cb','#ffefc8','#ffeec6','#ffedc3','#ffecc1','#ffeabe','#ffeabc','#ffe9b9','#ffe7b7','#ffe7b4','#ffe6b2','#ffe4b0','#ffe4ad','#ffe3ab','#ffe1a8','#ffe1a6','#ffe0a4','#ffdea1','#ffde9f','#ffdc9d','#ffdc9b','#ffda98','#ffd996','#ffd994','#ffd891','#ffd68f','#ffd68d','#ffd58a','#ffd388','#ffd386','#ffd284','#ffd081','#ffcf7f','#ffcf7d','#ffcd7b','#ffcc78','#ffcc76','#ffca74','#ffc971','#ffc96f','#ffc76d','#ffc76b','#ffc568','#ffc566','#ffc464','#ffc361','#ffc15d','#ffc05a','#ffbf58','#ffbe56','#ffbc53','#ffbc51','#ffba4e','#ffba4c','#ffb849','#ffb747','#ffb644','#ffb53f','#ffb43d','#ffb23a','#ffb237','#ffb134','#ffaf31','#ffaf2e','#ffad2a','#ffab24','#ffab21','#ffa91c','#ffa818','#ffa813','#ffa60b','#ffa400','#ffa300','#ffa200','#ffa100','#ff9f00','#ff9e00','#ff9d00','#ff9c00','#ff9b00','#ff9900','#ff9800','#ff9700','#ff9500','#ff9500','#ff9300','#ff9100','#ff9000','#ff8f00','#ff8d00','#ff8c00','#ff8a00','#ff8a00','#fe8800','#fe8800','#fe8700','#fe8400','#fd8400','#fd8300','#fd8200','#fd8000','#fc7f00','#fc7d00','#fc7c00','#fc7b00','#fb7a00','#fb7900','#fb7800','#fa7700','#fa7400','#fa7400','#f97200','#f97100','#f87000','#f86e00','#f86e00','#f76d00','#f76c00','#f66a00','#f66900','#f56800','#f56600','#f46600','#f46400','#f36400','#f36200','#f36100','#f26000','#f15e00','#f15d00','#f05d00','#ef5b00','#ef5900','#ef5900','#ee5800','#ed5700','#ed5500','#ec5500','#eb5400','#ea5200','#ea5100','#e95000','#e84f00','#e84e00','#e74c00','#e74b00','#e64a00','#e54900','#e44800','#e44700','#e34600','#e34500','#e14400','#e14300','#e04100','#df4000','#de4000','#de3e00','#dd3d00','#dc3d00','#db3c00','#db3a00','#da3900','#d83800','#d83700','#d73600','#d63500','#d63401','#d43301','#d43201','#d23101','#d13001','#d12e01','#d02e01','#d02d01','#ce2c01','#ce2b01','#cd2a01','#cc2901','#ca2801','#c92701','#c92601','#c82501','#c72401','#c62301','#c52201','#c42102','#c32002','#c21f02','#c01e02','#bf1d02','#bf1c02','#be1b02','#bd1a02','#bc1902','#ba1902','#ba1802','#b81702','#b81602','#b71502','#b51402','#b51302','#b41202','#b21202','#b11102','#b01002','#af0e02','#ae0d02','#ac0d02','#ac0c02','#aa0b02','#a90a02','#a80902','#a80902','#a60802','#a50702','#a30602','#a30602','#a20502','#a00502','#a00402','#9e0302','#9c0302','#9b0302','#9b0201','#9a0201','#990201','#970101','#950101','#950101','#940101','#920001','#920001','#900001','#8f0000','#8d0000','#8d0000','#8b0000']\n",
      "\n",
      "img = Image.new( 'RGB', (255,255), \"white\") # create a new image\n",
      "pixels = img.load() # create the pixel map\n",
      "for i in range(img.size[0]):    # for every pixel:\n",
      "    for j in range(img.size[1]):\n",
      "        pixels[i,j] = hex_to_rgb(hex_colors[i]) # set the colour accordingly\n",
      "img.show\n",
      "img.save(\"year-built-color-map.png\")\n"
     ],
     "language": "python",
     "metadata": {},
     "outputs": [],
     "prompt_number": 158
    },
    {
     "cell_type": "code",
     "collapsed": false,
     "input": [
      "hex_stops =  ['#1d1e4e','#482045','#6f1f4b','#8d2747','#aa3f4c','#a9513f','#ba663a','#cf8139','#e59f44','#e9bb76']\n",
      "hex_colors = ['#1d1e4e','#201e4e','#241e4d','#261e4d','#291e4c','#291f4c','#2b1f4c','#2d1f4b','#301f4b','#331f4a','#341f4a','#371f49','#381f49','#3b1f48','#3d1f48','#3d1f48','#3f2047','#402047','#432046','#452046','#462046','#482045','#492045','#4b2045','#4d2046','#4d2046','#502046','#502046','#522047','#532047','#552047','#562047','#572047','#5a2048','#5b2048','#5c2048','#5d2048','#5e2048','#602049','#622049','#632049','#652049','#65204a','#67204a','#69204a','#6b1f4a','#6b1f4a','#6c1f4b','#6f1f4b','#701f4b','#711f4b','#72204b','#72204b','#75204a','#75214a','#76214a','#77214a','#78214a','#7a224a','#7a224a','#7d2249','#7d2249','#7e2349','#7f2349','#802449','#812449','#832448','#842548','#852548','#862548','#882548','#882648','#892648','#8b2647','#8b2747','#8d2747','#8e2847','#8e2847','#902947','#902948','#912a48','#922b48','#932c48','#932c48','#952d48','#952d48','#952e49','#972f49','#973049','#983049','#993149','#9a3249','#9a3249','#9c334a','#9c334a','#9d354a','#9d354a','#9f364a','#9f364a','#a0374a','#a1384a','#a2384b','#a2394b','#a33a4b','#a43a4b','#a43b4b','#a63c4b','#a73c4b','#a83d4c','#a83d4c','#a93e4c','#a93f4c','#aa414b','#aa424a','#aa4349','#aa4448','#aa4747','#aa4846','#a94b44','#a94b43','#a94d43','#a94e41','#a94f40','#a9513f','#a9523f','#aa523f','#ab533e','#ac543e','#ac543e','#ad563e','#ad563e','#ae573e','#ae583e','#af593d','#b05a3d','#b05a3d','#b15b3d','#b15b3d','#b25d3c','#b35d3c','#b35e3c','#b45f3c','#b55f3c','#b5603c','#b6623b','#b6623b','#b7623b','#b8643b','#b9643b','#b9653a','#ba653a','#ba673a','#bb683a','#bb683a','#bc683a','#bd693a','#bd6a3a','#bd6a3a','#be6c3a','#bf6c3a','#c06d3a','#c16e3a','#c16e3a','#c16f3a','#c2713a','#c2713a','#c3723a','#c4733a','#c5743a','#c5753a','#c5753a','#c6753a','#c7773a','#c8773a','#c87939','#c97939','#c97939','#ca7a39','#ca7b39','#cb7c39','#cc7d39','#cc7e39','#cd7e39','#ce7f39','#ce8039','#cf8139','#cf8139','#d08239','#d0833a','#d1843a','#d2843a','#d2853b','#d2863b','#d3873b','#d4883b','#d5883c','#d5893c','#d58a3c','#d68b3c','#d78c3d','#d78d3d','#d88d3d','#d88d3e','#d98f3e','#da8f3e','#da903f','#da913f','#db923f','#dc933f','#dc9340','#dd9340','#dd9440','#de9641','#df9641','#df9741','#e09741','#e09942','#e19942','#e19a42','#e29a42','#e29c43','#e39d43','#e49d43','#e59e44','#e59e44','#e59f45','#e5a047','#e6a149','#e6a24b','#e6a44c','#e6a54e','#e6a650','#e6a652','#e6a652','#e7a754','#e7a855','#e7aa57','#e7ab59','#e7ab5b','#e7ac5d','#e8ae5e','#e8af60','#e8af62','#e8b063','#e8b165','#e8b265','#e8b367','#e8b469','#e8b56b','#e9b66c','#e9b76e','#e9b870','#e9b872','#e9ba73','#e9ba75','#e9bb76']"
     ],
     "language": "python",
     "metadata": {},
     "outputs": [],
     "prompt_number": 181
    },
    {
     "cell_type": "code",
     "collapsed": false,
     "input": [
      "hex_colors.index(hex_stops[9])"
     ],
     "language": "python",
     "metadata": {},
     "outputs": [
      {
       "metadata": {},
       "output_type": "pyout",
       "prompt_number": 173,
       "text": [
        "255"
       ]
      }
     ],
     "prompt_number": 173
    },
    {
     "cell_type": "code",
     "collapsed": false,
     "input": [
      "years_built"
     ],
     "language": "python",
     "metadata": {},
     "outputs": [
      {
       "metadata": {},
       "output_type": "pyout",
       "prompt_number": 174,
       "text": [
        "{'': 134779,\n",
        " '0': 2,\n",
        " '1755': 1,\n",
        " '1770': 1,\n",
        " '1774': 1,\n",
        " '1780': 2,\n",
        " '1790': 2,\n",
        " '1794': 1,\n",
        " '1797': 2,\n",
        " '1800': 59,\n",
        " '1801': 3,\n",
        " '1802': 4,\n",
        " '1803': 1,\n",
        " '1804': 1,\n",
        " '1805': 8,\n",
        " '1806': 5,\n",
        " '1807': 1,\n",
        " '1808': 4,\n",
        " '1809': 2,\n",
        " '1810': 18,\n",
        " '1811': 1,\n",
        " '1813': 1,\n",
        " '1814': 5,\n",
        " '1815': 6,\n",
        " '1816': 8,\n",
        " '1817': 2,\n",
        " '1818': 2,\n",
        " '1819': 2,\n",
        " '1820': 40,\n",
        " '1822': 2,\n",
        " '1823': 2,\n",
        " '1824': 3,\n",
        " '1825': 26,\n",
        " '1826': 8,\n",
        " '1827': 2,\n",
        " '1828': 2,\n",
        " '1829': 7,\n",
        " '1830': 56,\n",
        " '1831': 4,\n",
        " '1832': 7,\n",
        " '1833': 3,\n",
        " '1834': 2,\n",
        " '1835': 15,\n",
        " '1836': 10,\n",
        " '1837': 8,\n",
        " '1838': 5,\n",
        " '1839': 2,\n",
        " '1840': 71,\n",
        " '1841': 5,\n",
        " '1842': 7,\n",
        " '1843': 5,\n",
        " '1844': 5,\n",
        " '1845': 17,\n",
        " '1846': 7,\n",
        " '1847': 14,\n",
        " '1848': 15,\n",
        " '1849': 13,\n",
        " '1850': 291,\n",
        " '1851': 6,\n",
        " '1852': 14,\n",
        " '1853': 8,\n",
        " '1854': 10,\n",
        " '1855': 30,\n",
        " '1856': 26,\n",
        " '1857': 18,\n",
        " '1858': 10,\n",
        " '1859': 11,\n",
        " '1860': 212,\n",
        " '1861': 55,\n",
        " '1862': 28,\n",
        " '1863': 28,\n",
        " '1864': 24,\n",
        " '1865': 132,\n",
        " '1866': 22,\n",
        " '1867': 36,\n",
        " '1868': 28,\n",
        " '1869': 22,\n",
        " '1870': 414,\n",
        " '1871': 48,\n",
        " '1872': 97,\n",
        " '1873': 35,\n",
        " '1874': 30,\n",
        " '1875': 259,\n",
        " '1876': 124,\n",
        " '1877': 129,\n",
        " '1878': 52,\n",
        " '1879': 46,\n",
        " '1880': 2084,\n",
        " '1881': 164,\n",
        " '1882': 84,\n",
        " '1883': 52,\n",
        " '1884': 73,\n",
        " '1885': 380,\n",
        " '1886': 358,\n",
        " '1887': 316,\n",
        " '1888': 130,\n",
        " '1889': 164,\n",
        " '1890': 4977,\n",
        " '1891': 394,\n",
        " '1892': 304,\n",
        " '1893': 138,\n",
        " '1894': 147,\n",
        " '1895': 1050,\n",
        " '1896': 741,\n",
        " '1897': 550,\n",
        " '1898': 675,\n",
        " '1899': 367,\n",
        " '1900': 32689,\n",
        " '1901': 1008,\n",
        " '1902': 964,\n",
        " '1903': 644,\n",
        " '1904': 612,\n",
        " '1905': 2904,\n",
        " '1906': 1555,\n",
        " '1907': 823,\n",
        " '1908': 767,\n",
        " '1909': 473,\n",
        " '1910': 15057,\n",
        " '1911': 855,\n",
        " '1912': 958,\n",
        " '1913': 446,\n",
        " '1914': 551,\n",
        " '1915': 4323,\n",
        " '1916': 1041,\n",
        " '1917': 921,\n",
        " '1918': 1223,\n",
        " '1919': 755,\n",
        " '1920': 23193,\n",
        " '1921': 1152,\n",
        " '1922': 1400,\n",
        " '1923': 1382,\n",
        " '1924': 1940,\n",
        " '1925': 11088,\n",
        " '1926': 2784,\n",
        " '1927': 2679,\n",
        " '1928': 3427,\n",
        " '1929': 2573,\n",
        " '1930': 16256,\n",
        " '1931': 927,\n",
        " '1932': 1002,\n",
        " '1933': 601,\n",
        " '1934': 631,\n",
        " '1935': 4680,\n",
        " '1936': 1387,\n",
        " '1937': 1275,\n",
        " '1938': 2060,\n",
        " '1939': 2054,\n",
        " '1940': 12767,\n",
        " '1941': 2716,\n",
        " '1942': 2345,\n",
        " '1943': 1275,\n",
        " '1944': 803,\n",
        " '1945': 5458,\n",
        " '1946': 2647,\n",
        " '1947': 3336,\n",
        " '1948': 4984,\n",
        " '1949': 3529,\n",
        " '1950': 23428,\n",
        " '1951': 4639,\n",
        " '1952': 5807,\n",
        " '1953': 5657,\n",
        " '1954': 6172,\n",
        " '1955': 14700,\n",
        " '1956': 7276,\n",
        " '1957': 6113,\n",
        " '1958': 6365,\n",
        " '1959': 5141,\n",
        " '1960': 14680,\n",
        " '1961': 3638,\n",
        " '1962': 3746,\n",
        " '1963': 3314,\n",
        " '1964': 3408,\n",
        " '1965': 6588,\n",
        " '1966': 2752,\n",
        " '1967': 3066,\n",
        " '1968': 4110,\n",
        " '1969': 2991,\n",
        " '1970': 6257,\n",
        " '1971': 1934,\n",
        " '1972': 2961,\n",
        " '1973': 2677,\n",
        " '1974': 2762,\n",
        " '1975': 4428,\n",
        " '1976': 2627,\n",
        " '1977': 2793,\n",
        " '1978': 4454,\n",
        " '1979': 3491,\n",
        " '1980': 3502,\n",
        " '1981': 1173,\n",
        " '1982': 1550,\n",
        " '1983': 2038,\n",
        " '1984': 2114,\n",
        " '1985': 2881,\n",
        " '1986': 2480,\n",
        " '1987': 2452,\n",
        " '1988': 2031,\n",
        " '1989': 2206,\n",
        " '1990': 2634,\n",
        " '1991': 1849,\n",
        " '1992': 1845,\n",
        " '1993': 2295,\n",
        " '1994': 2073,\n",
        " '1995': 1842,\n",
        " '1996': 1486,\n",
        " '1997': 1549,\n",
        " '1998': 1642,\n",
        " '1999': 1792,\n",
        " '2000': 1787,\n",
        " '2001': 1753,\n",
        " '2002': 2140,\n",
        " '2003': 1887,\n",
        " '2004': 2221,\n",
        " '2005': 1727,\n",
        " '2006': 1905,\n",
        " '2007': 1795,\n",
        " '2008': 1617,\n",
        " '2009': 1145,\n",
        " '2010': 1360,\n",
        " '2011': 1016,\n",
        " '2012': 1453,\n",
        " '2013': 1345,\n",
        " '2014': 1432,\n",
        " '2015': 1264,\n",
        " '2016': 3}"
       ]
      }
     ],
     "prompt_number": 174
    },
    {
     "cell_type": "code",
     "collapsed": false,
     "input": [
      "hex_stops = ['#f7fbff','#deebf7','#c6dbef','#9ecae1','#6baed6','#4292c6','#2171b5','#08519c','#08306b']"
     ],
     "language": "python",
     "metadata": {},
     "outputs": [],
     "prompt_number": 175
    },
    {
     "cell_type": "code",
     "collapsed": false,
     "input": [
      "for i in hex_stops:\n",
      "  print i + \",\""
     ],
     "language": "python",
     "metadata": {},
     "outputs": [
      {
       "output_type": "stream",
       "stream": "stdout",
       "text": [
        "#f7fbff,\n",
        "#deebf7,\n",
        "#c6dbef,\n",
        "#9ecae1,\n",
        "#6baed6,\n",
        "#4292c6,\n",
        "#2171b5,\n",
        "#08519c,\n",
        "#08306b,\n"
       ]
      }
     ],
     "prompt_number": 178
    },
    {
     "cell_type": "code",
     "collapsed": false,
     "input": [
      "hex_stops = ['#ffffe0','#dcfac5','#b8f4ab','#90ee90','#6dc88c','#46a386','#008080','#265a81','#233381','#000080']\n",
      "for color in hex_stops:\n",
      "    rgb_color = HexToRgb(color)\n",
      "    print \"%.4f,%.4f,%.4f\" % (rgb_color[0]/255.0, rgb_color[1]/255.0, rgb_color[2]/255.0) "
     ],
     "language": "python",
     "metadata": {},
     "outputs": [
      {
       "output_type": "stream",
       "stream": "stdout",
       "text": [
        "1.0000,1.0000,0.8784\n",
        "0.8627,0.9804,0.7725\n",
        "0.7216,0.9569,0.6706\n",
        "0.5647,0.9333,0.5647\n",
        "0.4275,0.7843,0.5490\n",
        "0.2745,0.6392,0.5255\n",
        "0.0000,0.5020,0.5020\n",
        "0.1490,0.3529,0.5059\n",
        "0.1373,0.2000,0.5059\n",
        "0.0000,0.0000,0.5020\n"
       ]
      }
     ],
     "prompt_number": 180
    },
    {
     "cell_type": "code",
     "collapsed": false,
     "input": [
      "hex_stops = ['#1d1e4e','#5f2049','#8c2747','#aa414b','#ba653a','#d0823a','#e5a045','#ebc07f','#f7e0af','#ffffe0']\n",
      "years = [1880,1895,1910,1925,1940,1955,1970,1985,2000,2015]"
     ],
     "language": "python",
     "metadata": {},
     "outputs": [],
     "prompt_number": 183
    },
    {
     "cell_type": "code",
     "collapsed": false,
     "input": [
      "for i in range(0,10):\n",
      "    print \"if (year < %s) {\" % (years[i])\n",
      "    rgb_color = HexToRgb(hex_stops[i])\n",
      "    print \"  color = vec4(%.4f,%.4f,%.4f,1.0)\" % (rgb_color[0]/255.0, rgb_color[1]/255.0, rgb_color[2]/255.0)\n",
      "    print \"}\""
     ],
     "language": "python",
     "metadata": {},
     "outputs": [
      {
       "output_type": "stream",
       "stream": "stdout",
       "text": [
        "if (year < 1880) {\n",
        "  color = vec4(0.1137,0.1176,0.3059,1.0)\n",
        "}\n",
        "if (year < 1895) {\n",
        "  color = vec4(0.3725,0.1255,0.2863,1.0)\n",
        "}\n",
        "if (year < 1910) {\n",
        "  color = vec4(0.5490,0.1529,0.2784,1.0)\n",
        "}\n",
        "if (year < 1925) {\n",
        "  color = vec4(0.6667,0.2549,0.2941,1.0)\n",
        "}\n",
        "if (year < 1940) {\n",
        "  color = vec4(0.7294,0.3961,0.2275,1.0)\n",
        "}\n",
        "if (year < 1955) {\n",
        "  color = vec4(0.8157,0.5098,0.2275,1.0)\n",
        "}\n",
        "if (year < 1970) {\n",
        "  color = vec4(0.8980,0.6275,0.2706,1.0)\n",
        "}\n",
        "if (year < 1985) {\n",
        "  color = vec4(0.9216,0.7529,0.4980,1.0)\n",
        "}\n",
        "if (year < 2000) {\n",
        "  color = vec4(0.9686,0.8784,0.6863,1.0)\n",
        "}\n",
        "if (year < 2015) {\n",
        "  color = vec4(1.0000,1.0000,0.8784,1.0)\n",
        "}\n"
       ]
      }
     ],
     "prompt_number": 187
    },
    {
     "cell_type": "code",
     "collapsed": false,
     "input": [
      "len(years)"
     ],
     "language": "python",
     "metadata": {},
     "outputs": [
      {
       "metadata": {},
       "output_type": "pyout",
       "prompt_number": 185,
       "text": [
        "10"
       ]
      }
     ],
     "prompt_number": 185
    },
    {
     "cell_type": "code",
     "collapsed": false,
     "input": [
      "hex_colors = ['#ffffe0','#ffeec1','#ffdea7','#ffcb91','#ffb880','#ffa474','#fe906a','#f87d64','#f06a5e','#e75758','#db4551','#cf3447','#c0223b','#b0122c','#9e051b','#8b0000']\n",
      "img = Image.new( 'RGB', (255,255), \"white\") # create a new image\n",
      "pixels = img.load() # create the pixel map\n",
      "for i in range(img.size[0]):    # for every pixel:\n",
      "    for j in range(img.size[1]):\n",
      "        pixels[i,j] = hex_to_rgb(hex_colors[i/16]) # set the colour accordingly\n",
      "img.show()\n",
      "img.save(\"year-built-color-map.png\")\n",
      "\n"
     ],
     "language": "python",
     "metadata": {},
     "outputs": [],
     "prompt_number": 203
    },
    {
     "cell_type": "code",
     "collapsed": false,
     "input": [
      "parcel_colors = ['#e41a1c','#377eb8','#4daf4a','#984ea3','#ff7f00','#ffff33','#a65628']\n",
      "parcel_colors = ['#fb3059','#fe6b2d','#d1947a','#c6a900','#02ca75','#00a2de','#9529b1']\n",
      "\n",
      "year_built_colors = ['#ffffe0','#ffeec1','#ffdea7','#ffcb91','#ffb880','#ffa474','#fe906a','#f87d64','#f06a5e','#e75758','#db4551','#cf3447','#c0223b','#b0122c','#9e051b','#8b0000']\n",
      "img = Image.new( 'RGB', (255,255), \"white\") # create a new image\n",
      "pixels = img.load() # create the pixel map\n",
      "for i in range(0,len(parcel_colors)):\n",
      "    pixels[0,i] = HexToRgb(parcel_colors[i]) # set the colour accordingly\n",
      "for i in range(0,len(year_built_colors)):\n",
      "    pixels[1,i] = HexToRgb(year_built_colors[i]) # set the colour accordingly\n",
      "#img.show()\n",
      "img.save(\"color-map.png\")\n"
     ],
     "language": "python",
     "metadata": {},
     "outputs": [],
     "prompt_number": 37
    },
    {
     "cell_type": "code",
     "collapsed": false,
     "input": [
      "for i in range (0,32):\n",
      "    print i/2"
     ],
     "language": "python",
     "metadata": {},
     "outputs": [
      {
       "output_type": "stream",
       "stream": "stdout",
       "text": [
        "0\n",
        "0\n",
        "1\n",
        "1\n",
        "2\n",
        "2\n",
        "3\n",
        "3\n",
        "4\n",
        "4\n",
        "5\n",
        "5\n",
        "6\n",
        "6\n",
        "7\n",
        "7\n",
        "8\n",
        "8\n",
        "9\n",
        "9\n",
        "10\n",
        "10\n",
        "11\n",
        "11\n",
        "12\n",
        "12\n",
        "13\n",
        "13\n",
        "14\n",
        "14\n",
        "15\n",
        "15\n"
       ]
      }
     ],
     "prompt_number": 198
    },
    {
     "cell_type": "code",
     "collapsed": false,
     "input": [
      "class_descriptions = sorted(class_descs.keys())\n",
      "points = []\n",
      "for row in data:\n",
      "    par_id = row['PARID']\n",
      "    year_built = row['YEARBLT']\n",
      "    class_description = row['CLASSDESC']    \n",
      "    if year_built == '' or year_built == '0':\n",
      "        year_built = '0001' # Null Value, -62135596800.0 Epoch\n",
      "    if centroids.has_key(par_id):\n",
      "        centroid = centroids[par_id]\n",
      "        points += LonLatToPixelXY(centroid)        \n",
      "        points.append(float(year_built))\n",
      "        points.append(class_descriptions.index(class_description)+1.0)\n",
      "array.array('f', points).tofile(open('parcels.bin', 'wb'))\n"
     ],
     "language": "python",
     "metadata": {},
     "outputs": [],
     "prompt_number": 44
    },
    {
     "cell_type": "code",
     "collapsed": false,
     "input": [
      "sorted(class_descs.keys())"
     ],
     "language": "python",
     "metadata": {},
     "outputs": [
      {
       "metadata": {},
       "output_type": "pyout",
       "prompt_number": 39,
       "text": [
        "['AGRICULTURAL',\n",
        " 'COMMERCIAL',\n",
        " 'GOVERNMENT',\n",
        " 'INDUSTRIAL',\n",
        " 'OTHER',\n",
        " 'RESIDENTIAL',\n",
        " 'UTILITIES']"
       ]
      }
     ],
     "prompt_number": 39
    },
    {
     "cell_type": "code",
     "collapsed": false,
     "input": [
      "class_descriptions.index('RESIDENTIAL')"
     ],
     "language": "python",
     "metadata": {},
     "outputs": [
      {
       "metadata": {},
       "output_type": "pyout",
       "prompt_number": 43,
       "text": [
        "5"
       ]
      }
     ],
     "prompt_number": 43
    },
    {
     "cell_type": "code",
     "collapsed": false,
     "input": [
      "points[10000:10005]"
     ],
     "language": "python",
     "metadata": {},
     "outputs": [
      {
       "metadata": {},
       "output_type": "pyout",
       "prompt_number": 34,
       "text": [
        "[71.12236259852368, 96.50043889773998, 1976.0, 5, 71.1222727590303]"
       ]
      }
     ],
     "prompt_number": 34
    },
    {
     "cell_type": "code",
     "collapsed": false,
     "input": [
      "def scale_year(year):\n",
      "    if year < 1800.0: \n",
      "        year = 1800.0\n",
      "    return int(((year - 1800.0) * 16.0) / (2016.0-1800.))\n"
     ],
     "language": "python",
     "metadata": {},
     "outputs": [],
     "prompt_number": 86
    },
    {
     "cell_type": "code",
     "collapsed": false,
     "input": [
      "scale_year(2016.0)"
     ],
     "language": "python",
     "metadata": {},
     "outputs": [
      {
       "metadata": {},
       "output_type": "pyout",
       "prompt_number": 92,
       "text": [
        "16"
       ]
      }
     ],
     "prompt_number": 92
    },
    {
     "cell_type": "code",
     "collapsed": false,
     "input": [],
     "language": "python",
     "metadata": {},
     "outputs": []
    }
   ],
   "metadata": {}
  }
 ]
}
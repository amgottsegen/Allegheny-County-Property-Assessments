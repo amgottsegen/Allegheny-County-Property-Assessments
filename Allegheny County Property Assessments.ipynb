{
 "metadata": {
  "name": "",
  "signature": "sha256:fc7c243f0b4b24aab0c21c5fad66e6955166bf1e78990808f2285f4e72e29036"
 },
 "nbformat": 3,
 "nbformat_minor": 0,
 "worksheets": [
  {
   "cells": [
    {
     "cell_type": "code",
     "collapsed": false,
     "input": [
      "# capture/alleghenycountymasterfile12012016.csv from https://data.wprdc.org/dataset/property-assessments\n",
      "# capture/Allegheny_County_Parcel_Boundaries.geojson from https://data.wprdc.org/dataset/allegheny-county-parcel-boundaries\n",
      "import array, csv, datetime, json, math, os, random\n",
      "from dateutil.parser import parse\n",
      "from shapely.geometry import mapping, shape\n",
      "import matplotlib.colors as colors\n",
      "\n",
      "def LonLatToPixelXY(lonlat):\n",
      "    (lon, lat) = lonlat\n",
      "    x = (lon + 180.0) * 256.0 / 360.0\n",
      "    y = 128.0 - math.log(math.tan((lat + 90.0) * math.pi / 360.0)) * 128.0 / math.pi\n",
      "    return [x, y]\n",
      "\n",
      "\n",
      "def GetCentroid(geometry):\n",
      "    s = shape(geometry)\n",
      "    return (s.centroid.x, s.centroid.y)   \n",
      "\n",
      "def GetEpoch(date):\n",
      "    return (date - datetime.datetime(1970, 1, 1)).total_seconds()\n",
      "\n",
      "def HexToRgb(hex_string):\n",
      "    rgb = colors.hex2color(hex_string)\n",
      "    r,g,b = tuple([int(255*x) for x in rgb])\n",
      "    return (r,g,b)"
     ],
     "language": "python",
     "metadata": {},
     "outputs": [],
     "prompt_number": 146
    },
    {
     "cell_type": "code",
     "collapsed": false,
     "input": [
      "data = []\n",
      "with open(\"capture/alleghenycountymasterfile12012016.csv\", \"rb\") as csvfile:\n",
      "    reader = csv.DictReader(csvfile)\n",
      "    for line in reader:\n",
      "        data.append(line)\n",
      "print(len(data))\n",
      "data[10]\n"
     ],
     "language": "python",
     "metadata": {},
     "outputs": [
      {
       "output_type": "stream",
       "stream": "stdout",
       "text": [
        "576859\n"
       ]
      },
      {
       "metadata": {},
       "output_type": "pyout",
       "prompt_number": 2,
       "text": [
        "{'ABATEMENTFLAG': '',\n",
        " 'ALT_ID': '',\n",
        " 'ASOFDATE': '01-DEC-16',\n",
        " 'BASEMENT': '',\n",
        " 'BASEMENTDESC': '',\n",
        " 'BEDROOMS': '',\n",
        " 'BSMTGARAGE': '',\n",
        " 'CARDNUMBER': '',\n",
        " 'CDU': '',\n",
        " 'CDUDESC': '',\n",
        " 'CHANGENOTICEADDRESS1': '740   TRUMBULL DR   ',\n",
        " 'CHANGENOTICEADDRESS2': '  ',\n",
        " 'CHANGENOTICEADDRESS3': 'PITTSBURGH PA  ',\n",
        " 'CHANGENOTICEADDRESS4': '15205',\n",
        " 'CLASS': 'C',\n",
        " 'CLASSDESC': 'COMMERCIAL',\n",
        " 'CLEANGREEN': '',\n",
        " 'CONDITION': '',\n",
        " 'CONDITIONDESC': '',\n",
        " 'COUNTYBUILDING': '0',\n",
        " 'COUNTYEXEMPTBLDG': '0',\n",
        " 'COUNTYLAND': '5000',\n",
        " 'COUNTYTOTAL': '5000',\n",
        " 'DEEDBOOK': '10040',\n",
        " 'DEEDPAGE': '464',\n",
        " 'EXTERIORFINISH': '',\n",
        " 'EXTFINISH_DESC': '',\n",
        " 'FAIRMARKETBUILDING': '0',\n",
        " 'FAIRMARKETLAND': '5000',\n",
        " 'FAIRMARKETTOTAL': '5000',\n",
        " 'FARMSTEADFLAG': '',\n",
        " 'FINISHEDLIVINGAREA': '',\n",
        " 'FIREPLACES': '',\n",
        " 'FULLBATHS': '',\n",
        " 'GRADE': '',\n",
        " 'GRADEDESC': '',\n",
        " 'HALFBATHS': '',\n",
        " 'HEATINGCOOLING': '',\n",
        " 'HEATINGCOOLINGDESC': '',\n",
        " 'HOMESTEADFLAG': '',\n",
        " 'LEGAL1': 'LOT 18X52.58',\n",
        " 'LEGAL2': '1 1/2X18 1/2 PRIVATE AY',\n",
        " 'LEGAL3': 'GATEWAY (6X12) OLA',\n",
        " 'LOCALBUILDING': '0',\n",
        " 'LOCALLAND': '5000',\n",
        " 'LOCALTOTAL': '5000',\n",
        " 'LOTAREA': '1908',\n",
        " 'MUNICODE': '101',\n",
        " 'MUNIDESC': '1st Ward  - PITTSBURGH',\n",
        " 'NEIGHCODE': '51C02',\n",
        " 'NEIGHDESC': 'PITTSBURGH URBAN',\n",
        " 'OWNERCODE': '20',\n",
        " 'OWNERDESC': 'CORPORATION',\n",
        " 'PARID': '0002J00231000000',\n",
        " 'PREVSALEDATE': '',\n",
        " 'PREVSALEDATE2': '',\n",
        " 'PREVSALEPRICE': '',\n",
        " 'PREVSALEPRICE2': '',\n",
        " 'PROPERTYADDRESS': '2ND AVE',\n",
        " 'PROPERTYCITY': 'PITTSBURGH',\n",
        " 'PROPERTYFRACTION': '',\n",
        " 'PROPERTYHOUSENUM': '0',\n",
        " 'PROPERTYSTATE': 'PA',\n",
        " 'PROPERTYUNIT': ' ',\n",
        " 'PROPERTYZIP': '15219',\n",
        " 'RECORDDATE': '',\n",
        " 'ROOF': '',\n",
        " 'ROOFDESC': '',\n",
        " 'SALECODE': '8',\n",
        " 'SALEDATE': '09-24-1997',\n",
        " 'SALEDESC': 'OTHER',\n",
        " 'SALEPRICE': '5082125',\n",
        " 'SCHOOLCODE': '47',\n",
        " 'SCHOOLDESC': 'City Of Pittsburgh',\n",
        " 'STORIES': '',\n",
        " 'STYLE': '',\n",
        " 'STYLEDESC': '',\n",
        " 'TAXCODE': 'T',\n",
        " 'TAXDESC': '20 - Taxable',\n",
        " 'TAXSUBCODE': '',\n",
        " 'TAXSUBCODE_DESC': '',\n",
        " 'TAXYEAR': '2016',\n",
        " 'TOTALROOMS': '',\n",
        " 'USECODE': '400',\n",
        " 'USEDESC': 'VACANT COMMERCIAL LAND',\n",
        " 'YEARBLT': ''}"
       ]
      }
     ],
     "prompt_number": 2
    },
    {
     "cell_type": "code",
     "collapsed": false,
     "input": [
      "with open(\"capture/Allegheny_County_Parcel_Boundaries.geojson\") as f:\n",
      "    parcel_json = json.load(f)\n",
      "len(parcel_json['features'])"
     ],
     "language": "python",
     "metadata": {},
     "outputs": [
      {
       "metadata": {},
       "output_type": "pyout",
       "prompt_number": 3,
       "text": [
        "579644"
       ]
      }
     ],
     "prompt_number": 3
    },
    {
     "cell_type": "code",
     "collapsed": false,
     "input": [
      "print parcel_json['features'][0]['properties']['PIN']\n",
      "print data[0]['PARID']"
     ],
     "language": "python",
     "metadata": {},
     "outputs": [
      {
       "output_type": "stream",
       "stream": "stdout",
       "text": [
        "0297J00044000000\n",
        "0002J00231000000\n"
       ]
      }
     ],
     "prompt_number": 4
    },
    {
     "cell_type": "code",
     "collapsed": false,
     "input": [
      "data_idx = {}\n",
      "for i in range(0, len(data)):\n",
      "    par_id = data[i]['PARID']\n",
      "    data_idx[par_id] = i\n",
      "    \n",
      "parcel_idx = {}\n",
      "for i in range(0,len(parcel_json[\"features\"])):\n",
      "    pin = parcel_json['features'][i]['properties']['PIN']    \n",
      "    parcel_idx[pin] = i\n",
      "              "
     ],
     "language": "python",
     "metadata": {},
     "outputs": [],
     "prompt_number": 14
    },
    {
     "cell_type": "code",
     "collapsed": false,
     "input": [
      "centroids = {}\n",
      "missed = []\n",
      "for row in data:\n",
      "    par_id = row['PARID']\n",
      "    if parcel_idx.has_key(par_id):\n",
      "        parcel_id = parcel_idx[par_id]\n",
      "        centroid = GetCentroid(parcel_json[\"features\"][parcel_id][\"geometry\"])\n",
      "        centroids[par_id] = centroid\n",
      "    else:\n",
      "        missed.append(par_id)\n"
     ],
     "language": "python",
     "metadata": {},
     "outputs": [],
     "prompt_number": 77
    },
    {
     "cell_type": "code",
     "collapsed": false,
     "input": [
      "len(missed)"
     ],
     "language": "python",
     "metadata": {},
     "outputs": [
      {
       "metadata": {},
       "output_type": "pyout",
       "prompt_number": 78,
       "text": [
        "1070"
       ]
      }
     ],
     "prompt_number": 78
    },
    {
     "cell_type": "code",
     "collapsed": false,
     "input": [
      "points = []\n",
      "missed_parcels = 0\n",
      "for row in data:\n",
      "    par_id = row['PARID']\n",
      "    if parcel_idx.has_key(par_id):\n",
      "        parcel_id = parcel_idx[par_id]\n",
      "        centroid = GetCentroid(parcel_json[\"features\"][parcel_id][\"geometry\"])\n",
      "        points += LonLatToPixelXY(centroid)\n",
      "    else:\n",
      "        missed_parcels += 1\n",
      "array.array('f', points).tofile(open('parcels.bin', 'wb'))\n"
     ],
     "language": "python",
     "metadata": {},
     "outputs": [],
     "prompt_number": 20
    },
    {
     "cell_type": "code",
     "collapsed": false,
     "input": [
      "missed"
     ],
     "language": "python",
     "metadata": {},
     "outputs": [
      {
       "metadata": {},
       "output_type": "pyout",
       "prompt_number": 21,
       "text": [
        "1070"
       ]
      }
     ],
     "prompt_number": 21
    },
    {
     "cell_type": "code",
     "collapsed": false,
     "input": [
      "sale_prices = {}\n",
      "for row in data:\n",
      "    sale_price = row['SALEPRICE']\n",
      "    if not sale_prices.has_key(sale_price):\n",
      "        sale_prices[sale_price] = 1\n",
      "    else:\n",
      "        sale_prices[sale_price] += 1\n"
     ],
     "language": "python",
     "metadata": {},
     "outputs": [],
     "prompt_number": 22
    },
    {
     "cell_type": "code",
     "collapsed": false,
     "input": [
      "len(sale_prices.keys())\n"
     ],
     "language": "python",
     "metadata": {},
     "outputs": [
      {
       "metadata": {},
       "output_type": "pyout",
       "prompt_number": 48,
       "text": [
        "30827"
       ]
      }
     ],
     "prompt_number": 48
    },
    {
     "cell_type": "code",
     "collapsed": false,
     "input": [
      "years_built = {}\n",
      "sale_dates = {}\n",
      "fairmarket_totals = {}\n",
      "classes = {}\n",
      "class_descs = {}\n",
      "\n",
      "def incrementKey(adict,key):\n",
      "    if not adict.has_key(key):\n",
      "        adict[key] = 1\n",
      "    else:\n",
      "        adict[key] += 1\n",
      "    \n",
      "for row in data:\n",
      "    year_built = row['YEARBLT']\n",
      "    incrementKey(years_built, year_built)\n",
      "    sale_date = row['SALEDATE']\n",
      "    incrementKey(sale_dates, sale_date)\n",
      "    fairmarket_total = row['FAIRMARKETTOTAL']\n",
      "    incrementKey(fairmarket_totals, fairmarket_total)\n",
      "    class_ = row['CLASS']\n",
      "    incrementKey(classes, class_)\n",
      "    class_desc = row['CLASSDESC']\n",
      "    incrementKey(class_descs, class_desc)\n"
     ],
     "language": "python",
     "metadata": {},
     "outputs": [],
     "prompt_number": 49
    },
    {
     "cell_type": "code",
     "collapsed": false,
     "input": [
      "len(years_built.keys())\n",
      "years_built['']"
     ],
     "language": "python",
     "metadata": {},
     "outputs": [
      {
       "metadata": {},
       "output_type": "pyout",
       "prompt_number": 76,
       "text": [
        "134779"
       ]
      }
     ],
     "prompt_number": 76
    },
    {
     "cell_type": "code",
     "collapsed": false,
     "input": [
      "points = []\n",
      "for row in data:\n",
      "    par_id = row['PARID']\n",
      "    year_built = row['YEARBLT']\n",
      "    if year_built == '' or year_built == '0':\n",
      "        year_built = '0001' # Null Value, -62135596800.0 Epoch\n",
      "    if centroids.has_key(par_id):\n",
      "        centroid = centroids[par_id]\n",
      "        points += LonLatToPixelXY(centroid)\n",
      "        date = datetime.datetime.strptime(year_built, '%Y')        \n",
      "        points.append(GetEpoch(date))\n",
      "array.array('f', points).tofile(open('parcels.bin', 'wb'))\n"
     ],
     "language": "python",
     "metadata": {},
     "outputs": [],
     "prompt_number": 111
    },
    {
     "cell_type": "code",
     "collapsed": false,
     "input": [
      "year_built\n",
      "date = datetime.datetime.strptime('2000', '%Y')   \n",
      "GetEpoch(date)"
     ],
     "language": "python",
     "metadata": {},
     "outputs": [
      {
       "metadata": {},
       "output_type": "pyout",
       "prompt_number": 110,
       "text": [
        "946684800.0"
       ]
      }
     ],
     "prompt_number": 110
    },
    {
     "cell_type": "code",
     "collapsed": false,
     "input": [
      "len(year_built"
     ],
     "language": "python",
     "metadata": {},
     "outputs": [
      {
       "metadata": {},
       "output_type": "pyout",
       "prompt_number": 104,
       "text": [
        "'0001'"
       ]
      }
     ],
     "prompt_number": 104
    },
    {
     "cell_type": "code",
     "collapsed": false,
     "input": [
      "fairmarket_totals['0']"
     ],
     "language": "python",
     "metadata": {},
     "outputs": [
      {
       "metadata": {},
       "output_type": "pyout",
       "prompt_number": 120,
       "text": [
        "2364"
       ]
      }
     ],
     "prompt_number": 120
    },
    {
     "cell_type": "code",
     "collapsed": false,
     "input": [
      "classes"
     ],
     "language": "python",
     "metadata": {},
     "outputs": [
      {
       "metadata": {},
       "output_type": "pyout",
       "prompt_number": 121,
       "text": [
        "{'C': 36807,\n",
        " 'F': 2489,\n",
        " 'G': 17242,\n",
        " 'I': 3766,\n",
        " 'O': 791,\n",
        " 'R': 513802,\n",
        " 'U': 1962}"
       ]
      }
     ],
     "prompt_number": 121
    },
    {
     "cell_type": "code",
     "collapsed": false,
     "input": [
      "class_descs"
     ],
     "language": "python",
     "metadata": {},
     "outputs": [
      {
       "metadata": {},
       "output_type": "pyout",
       "prompt_number": 123,
       "text": [
        "{'AGRICULTURAL': 2489,\n",
        " 'COMMERCIAL': 36807,\n",
        " 'GOVERNMENT': 17242,\n",
        " 'INDUSTRIAL': 3766,\n",
        " 'OTHER': 791,\n",
        " 'RESIDENTIAL': 513802,\n",
        " 'UTILITIES': 1962}"
       ]
      }
     ],
     "prompt_number": 123
    },
    {
     "cell_type": "code",
     "collapsed": false,
     "input": [
      "sorted(class_descs.keys())"
     ],
     "language": "python",
     "metadata": {},
     "outputs": [
      {
       "metadata": {},
       "output_type": "pyout",
       "prompt_number": 136,
       "text": [
        "['AGRICULTURAL',\n",
        " 'COMMERCIAL',\n",
        " 'GOVERNMENT',\n",
        " 'INDUSTRIAL',\n",
        " 'OTHER',\n",
        " 'RESIDENTIAL',\n",
        " 'UTILITIES']"
       ]
      }
     ],
     "prompt_number": 136
    },
    {
     "cell_type": "code",
     "collapsed": false,
     "input": [
      "no_year_built = 0\n",
      "no_= 0\n",
      "for row in data:\n",
      "    year_built = row['YEARBLT']\n",
      "    class_ = row['CLASS']\n",
      "    if year_built == '' and class_ == 'R':\n",
      "        no_year_built += 1\n",
      "    elif year_built == '':\n",
      "        no_ += 1\n",
      "print no_year_built\n",
      "print no_"
     ],
     "language": "python",
     "metadata": {},
     "outputs": [
      {
       "output_type": "stream",
       "stream": "stdout",
       "text": [
        "73279\n",
        "61500\n"
       ]
      }
     ],
     "prompt_number": 124
    },
    {
     "cell_type": "code",
     "collapsed": false,
     "input": [
      "class_descriptions = sorted(class_descs.keys())\n",
      "points = []\n",
      "for row in data:\n",
      "    par_id = row['PARID']\n",
      "    year_built = row['YEARBLT']\n",
      "    class_description = row['CLASSDESC']    \n",
      "    if year_built == '' or year_built == '0':\n",
      "        year_built = '0001' # Null Value, -62135596800.0 Epoch\n",
      "    if centroids.has_key(par_id):\n",
      "        centroid = centroids[par_id]\n",
      "        points += LonLatToPixelXY(centroid)\n",
      "        date = datetime.datetime.strptime(year_built, '%Y')        \n",
      "        points.append(GetEpoch(date))\n",
      "        points.append(class_descriptions.index(class_description))\n",
      "array.array('f', points).tofile(open('parcels.bin', 'wb'))\n"
     ],
     "language": "python",
     "metadata": {},
     "outputs": [],
     "prompt_number": 142
    },
    {
     "cell_type": "code",
     "collapsed": false,
     "input": [
      "foo = sorted(class_descs.keys())"
     ],
     "language": "python",
     "metadata": {},
     "outputs": [],
     "prompt_number": 137
    },
    {
     "cell_type": "code",
     "collapsed": false,
     "input": [
      "len(foo)"
     ],
     "language": "python",
     "metadata": {},
     "outputs": [
      {
       "metadata": {},
       "output_type": "pyout",
       "prompt_number": 141,
       "text": [
        "7"
       ]
      }
     ],
     "prompt_number": 141
    },
    {
     "cell_type": "code",
     "collapsed": false,
     "input": [
      "hex_colors = ['#e41a1c','#377eb8','#4daf4a','#984ea3','#ff7f00','#ffff33','#a65628']"
     ],
     "language": "python",
     "metadata": {},
     "outputs": [],
     "prompt_number": 143
    },
    {
     "cell_type": "code",
     "collapsed": false,
     "input": [
      "for color in hex_colors:\n",
      "    rgb_color = HexToRgb(color)\n",
      "    print \"%s,%s,%s\" % (rgb_color[0]/255.0, rgb_color[1]/255.0, rgb_color[2]/255.0) "
     ],
     "language": "python",
     "metadata": {},
     "outputs": [
      {
       "output_type": "stream",
       "stream": "stdout",
       "text": [
        "0.894117647059,0.101960784314,0.109803921569\n",
        "0.21568627451,0.494117647059,0.721568627451\n",
        "0.301960784314,0.686274509804,0.290196078431\n",
        "0.596078431373,0.305882352941,0.639215686275\n",
        "1.0,0.498039215686,0.0\n",
        "1.0,1.0,0.2\n",
        "0.650980392157,0.337254901961,0.156862745098\n"
       ]
      }
     ],
     "prompt_number": 150
    },
    {
     "cell_type": "code",
     "collapsed": false,
     "input": [],
     "language": "python",
     "metadata": {},
     "outputs": []
    }
   ],
   "metadata": {}
  }
 ]
}
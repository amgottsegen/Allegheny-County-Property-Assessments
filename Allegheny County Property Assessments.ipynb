{
 "metadata": {
  "name": "",
  "signature": "sha256:56e08fd2fa4a9869d43c9b7e197553ac22ec587f801e442ed56b740b177e27ce"
 },
 "nbformat": 3,
 "nbformat_minor": 0,
 "worksheets": [
  {
   "cells": [
    {
     "cell_type": "code",
     "collapsed": false,
     "input": [
      "# capture/alleghenycountymasterfile12012016.csv from https://data.wprdc.org/dataset/property-assessments\n",
      "# capture/Allegheny_County_Parcel_Boundaries.geojson from https://data.wprdc.org/dataset/allegheny-county-parcel-boundaries\n",
      "import array, csv, datetime, json, math, os, random\n",
      "from dateutil.parser import parse\n",
      "from shapely.geometry import mapping, shape\n",
      "\n",
      "def LonLatToPixelXY(lonlat):\n",
      "    (lon, lat) = lonlat\n",
      "    x = (lon + 180.0) * 256.0 / 360.0\n",
      "    y = 128.0 - math.log(math.tan((lat + 90.0) * math.pi / 360.0)) * 128.0 / math.pi\n",
      "    return [x, y]\n",
      "\n",
      "\n",
      "def GetCentroid(geometry):\n",
      "    s = shape(geometry)\n",
      "    return (s.centroid.x, s.centroid.y)   \n",
      "\n",
      "def GetEpoch(date):\n",
      "    return (date - datetime.datetime(1970, 1, 1)).total_seconds()\n"
     ],
     "language": "python",
     "metadata": {},
     "outputs": [],
     "prompt_number": 79
    },
    {
     "cell_type": "code",
     "collapsed": false,
     "input": [
      "data = []\n",
      "with open(\"capture/alleghenycountymasterfile12012016.csv\", \"rb\") as csvfile:\n",
      "    reader = csv.DictReader(csvfile)\n",
      "    for line in reader:\n",
      "        data.append(line)\n",
      "print(len(data))\n",
      "data[10]\n"
     ],
     "language": "python",
     "metadata": {},
     "outputs": [
      {
       "output_type": "stream",
       "stream": "stdout",
       "text": [
        "576859\n"
       ]
      },
      {
       "metadata": {},
       "output_type": "pyout",
       "prompt_number": 2,
       "text": [
        "{'ABATEMENTFLAG': '',\n",
        " 'ALT_ID': '',\n",
        " 'ASOFDATE': '01-DEC-16',\n",
        " 'BASEMENT': '',\n",
        " 'BASEMENTDESC': '',\n",
        " 'BEDROOMS': '',\n",
        " 'BSMTGARAGE': '',\n",
        " 'CARDNUMBER': '',\n",
        " 'CDU': '',\n",
        " 'CDUDESC': '',\n",
        " 'CHANGENOTICEADDRESS1': '740   TRUMBULL DR   ',\n",
        " 'CHANGENOTICEADDRESS2': '  ',\n",
        " 'CHANGENOTICEADDRESS3': 'PITTSBURGH PA  ',\n",
        " 'CHANGENOTICEADDRESS4': '15205',\n",
        " 'CLASS': 'C',\n",
        " 'CLASSDESC': 'COMMERCIAL',\n",
        " 'CLEANGREEN': '',\n",
        " 'CONDITION': '',\n",
        " 'CONDITIONDESC': '',\n",
        " 'COUNTYBUILDING': '0',\n",
        " 'COUNTYEXEMPTBLDG': '0',\n",
        " 'COUNTYLAND': '5000',\n",
        " 'COUNTYTOTAL': '5000',\n",
        " 'DEEDBOOK': '10040',\n",
        " 'DEEDPAGE': '464',\n",
        " 'EXTERIORFINISH': '',\n",
        " 'EXTFINISH_DESC': '',\n",
        " 'FAIRMARKETBUILDING': '0',\n",
        " 'FAIRMARKETLAND': '5000',\n",
        " 'FAIRMARKETTOTAL': '5000',\n",
        " 'FARMSTEADFLAG': '',\n",
        " 'FINISHEDLIVINGAREA': '',\n",
        " 'FIREPLACES': '',\n",
        " 'FULLBATHS': '',\n",
        " 'GRADE': '',\n",
        " 'GRADEDESC': '',\n",
        " 'HALFBATHS': '',\n",
        " 'HEATINGCOOLING': '',\n",
        " 'HEATINGCOOLINGDESC': '',\n",
        " 'HOMESTEADFLAG': '',\n",
        " 'LEGAL1': 'LOT 18X52.58',\n",
        " 'LEGAL2': '1 1/2X18 1/2 PRIVATE AY',\n",
        " 'LEGAL3': 'GATEWAY (6X12) OLA',\n",
        " 'LOCALBUILDING': '0',\n",
        " 'LOCALLAND': '5000',\n",
        " 'LOCALTOTAL': '5000',\n",
        " 'LOTAREA': '1908',\n",
        " 'MUNICODE': '101',\n",
        " 'MUNIDESC': '1st Ward  - PITTSBURGH',\n",
        " 'NEIGHCODE': '51C02',\n",
        " 'NEIGHDESC': 'PITTSBURGH URBAN',\n",
        " 'OWNERCODE': '20',\n",
        " 'OWNERDESC': 'CORPORATION',\n",
        " 'PARID': '0002J00231000000',\n",
        " 'PREVSALEDATE': '',\n",
        " 'PREVSALEDATE2': '',\n",
        " 'PREVSALEPRICE': '',\n",
        " 'PREVSALEPRICE2': '',\n",
        " 'PROPERTYADDRESS': '2ND AVE',\n",
        " 'PROPERTYCITY': 'PITTSBURGH',\n",
        " 'PROPERTYFRACTION': '',\n",
        " 'PROPERTYHOUSENUM': '0',\n",
        " 'PROPERTYSTATE': 'PA',\n",
        " 'PROPERTYUNIT': ' ',\n",
        " 'PROPERTYZIP': '15219',\n",
        " 'RECORDDATE': '',\n",
        " 'ROOF': '',\n",
        " 'ROOFDESC': '',\n",
        " 'SALECODE': '8',\n",
        " 'SALEDATE': '09-24-1997',\n",
        " 'SALEDESC': 'OTHER',\n",
        " 'SALEPRICE': '5082125',\n",
        " 'SCHOOLCODE': '47',\n",
        " 'SCHOOLDESC': 'City Of Pittsburgh',\n",
        " 'STORIES': '',\n",
        " 'STYLE': '',\n",
        " 'STYLEDESC': '',\n",
        " 'TAXCODE': 'T',\n",
        " 'TAXDESC': '20 - Taxable',\n",
        " 'TAXSUBCODE': '',\n",
        " 'TAXSUBCODE_DESC': '',\n",
        " 'TAXYEAR': '2016',\n",
        " 'TOTALROOMS': '',\n",
        " 'USECODE': '400',\n",
        " 'USEDESC': 'VACANT COMMERCIAL LAND',\n",
        " 'YEARBLT': ''}"
       ]
      }
     ],
     "prompt_number": 2
    },
    {
     "cell_type": "code",
     "collapsed": false,
     "input": [
      "with open(\"capture/Allegheny_County_Parcel_Boundaries.geojson\") as f:\n",
      "    parcel_json = json.load(f)\n",
      "len(parcel_json['features'])"
     ],
     "language": "python",
     "metadata": {},
     "outputs": [
      {
       "metadata": {},
       "output_type": "pyout",
       "prompt_number": 3,
       "text": [
        "579644"
       ]
      }
     ],
     "prompt_number": 3
    },
    {
     "cell_type": "code",
     "collapsed": false,
     "input": [
      "print parcel_json['features'][0]['properties']['PIN']\n",
      "print data[0]['PARID']"
     ],
     "language": "python",
     "metadata": {},
     "outputs": [
      {
       "output_type": "stream",
       "stream": "stdout",
       "text": [
        "0297J00044000000\n",
        "0002J00231000000\n"
       ]
      }
     ],
     "prompt_number": 4
    },
    {
     "cell_type": "code",
     "collapsed": false,
     "input": [
      "data_idx = {}\n",
      "for i in range(0, len(data)):\n",
      "    par_id = data[i]['PARID']\n",
      "    data_idx[par_id] = i\n",
      "    \n",
      "parcel_idx = {}\n",
      "for i in range(0,len(parcel_json[\"features\"])):\n",
      "    pin = parcel_json['features'][i]['properties']['PIN']    \n",
      "    parcel_idx[pin] = i\n",
      "              "
     ],
     "language": "python",
     "metadata": {},
     "outputs": [],
     "prompt_number": 14
    },
    {
     "cell_type": "code",
     "collapsed": false,
     "input": [
      "centroids = {}\n",
      "missed = []\n",
      "for row in data:\n",
      "    par_id = row['PARID']\n",
      "    if parcel_idx.has_key(par_id):\n",
      "        parcel_id = parcel_idx[par_id]\n",
      "        centroid = GetCentroid(parcel_json[\"features\"][parcel_id][\"geometry\"])\n",
      "        centroids[par_id] = centroid\n",
      "    else:\n",
      "        missed.append(par_id)\n"
     ],
     "language": "python",
     "metadata": {},
     "outputs": [],
     "prompt_number": 77
    },
    {
     "cell_type": "code",
     "collapsed": false,
     "input": [
      "len(missed)"
     ],
     "language": "python",
     "metadata": {},
     "outputs": [
      {
       "metadata": {},
       "output_type": "pyout",
       "prompt_number": 78,
       "text": [
        "1070"
       ]
      }
     ],
     "prompt_number": 78
    },
    {
     "cell_type": "code",
     "collapsed": false,
     "input": [
      "points = []\n",
      "missed_parcels = 0\n",
      "for row in data:\n",
      "    par_id = row['PARID']\n",
      "    if parcel_idx.has_key(par_id):\n",
      "        parcel_id = parcel_idx[par_id]\n",
      "        centroid = GetCentroid(parcel_json[\"features\"][parcel_id][\"geometry\"])\n",
      "        points += LonLatToPixelXY(centroid)\n",
      "    else:\n",
      "        missed_parcels += 1\n",
      "array.array('f', points).tofile(open('parcels.bin', 'wb'))\n"
     ],
     "language": "python",
     "metadata": {},
     "outputs": [],
     "prompt_number": 20
    },
    {
     "cell_type": "code",
     "collapsed": false,
     "input": [
      "missed"
     ],
     "language": "python",
     "metadata": {},
     "outputs": [
      {
       "metadata": {},
       "output_type": "pyout",
       "prompt_number": 21,
       "text": [
        "1070"
       ]
      }
     ],
     "prompt_number": 21
    },
    {
     "cell_type": "code",
     "collapsed": false,
     "input": [
      "sale_prices = {}\n",
      "for row in data:\n",
      "    sale_price = row['SALEPRICE']\n",
      "    if not sale_prices.has_key(sale_price):\n",
      "        sale_prices[sale_price] = 1\n",
      "    else:\n",
      "        sale_prices[sale_price] += 1\n"
     ],
     "language": "python",
     "metadata": {},
     "outputs": [],
     "prompt_number": 22
    },
    {
     "cell_type": "code",
     "collapsed": false,
     "input": [
      "len(sale_prices.keys())\n"
     ],
     "language": "python",
     "metadata": {},
     "outputs": [
      {
       "metadata": {},
       "output_type": "pyout",
       "prompt_number": 48,
       "text": [
        "30827"
       ]
      }
     ],
     "prompt_number": 48
    },
    {
     "cell_type": "code",
     "collapsed": false,
     "input": [
      "years_built = {}\n",
      "sale_dates = {}\n",
      "fairmarket_totals = {}\n",
      "classes = {}\n",
      "class_descs = {}\n",
      "\n",
      "def incrementKey(adict,key):\n",
      "    if not adict.has_key(key):\n",
      "        adict[key] = 1\n",
      "    else:\n",
      "        adict[key] += 1\n",
      "    \n",
      "for row in data:\n",
      "    year_built = row['YEARBLT']\n",
      "    incrementKey(years_built, year_built)\n",
      "    sale_date = row['SALEDATE']\n",
      "    incrementKey(sale_dates, sale_date)\n",
      "    fairmarket_total = row['FAIRMARKETTOTAL']\n",
      "    incrementKey(fairmarket_totals, fairmarket_total)\n",
      "    class_ = row['CLASS']\n",
      "    incrementKey(classes, class_)\n",
      "    class_desc = row['CLASSDESC']\n",
      "    incrementKey(class_descs, class_desc)\n"
     ],
     "language": "python",
     "metadata": {},
     "outputs": [],
     "prompt_number": 49
    },
    {
     "cell_type": "code",
     "collapsed": false,
     "input": [
      "len(years_built.keys())\n",
      "years_built['']"
     ],
     "language": "python",
     "metadata": {},
     "outputs": [
      {
       "metadata": {},
       "output_type": "pyout",
       "prompt_number": 76,
       "text": [
        "134779"
       ]
      }
     ],
     "prompt_number": 76
    },
    {
     "cell_type": "code",
     "collapsed": false,
     "input": [
      "points = []\n",
      "for row in data:\n",
      "    par_id = row['PARID']\n",
      "    year_built = row['YEARBLT']\n",
      "    if year_built == '' or year_built == '0':\n",
      "        year_built = '0001' # Null Value, -62135596800.0 Epoch\n",
      "    if centroids.has_key(par_id):\n",
      "        centroid = centroids[par_id]\n",
      "        points += LonLatToPixelXY(centroid)\n",
      "        date = datetime.datetime.strptime(year_built, '%Y')        \n",
      "        points.append(GetEpoch(date))\n",
      "array.array('f', points).tofile(open('parcels.bin', 'wb'))\n"
     ],
     "language": "python",
     "metadata": {},
     "outputs": [],
     "prompt_number": 111
    },
    {
     "cell_type": "code",
     "collapsed": false,
     "input": [
      "year_built\n",
      "date = datetime.datetime.strptime('2000', '%Y')   \n",
      "GetEpoch(date)"
     ],
     "language": "python",
     "metadata": {},
     "outputs": [
      {
       "metadata": {},
       "output_type": "pyout",
       "prompt_number": 110,
       "text": [
        "946684800.0"
       ]
      }
     ],
     "prompt_number": 110
    },
    {
     "cell_type": "code",
     "collapsed": false,
     "input": [
      "year_built"
     ],
     "language": "python",
     "metadata": {},
     "outputs": [
      {
       "metadata": {},
       "output_type": "pyout",
       "prompt_number": 104,
       "text": [
        "'0001'"
       ]
      }
     ],
     "prompt_number": 104
    },
    {
     "cell_type": "code",
     "collapsed": false,
     "input": [
      "years_built"
     ],
     "language": "python",
     "metadata": {},
     "outputs": [
      {
       "metadata": {},
       "output_type": "pyout",
       "prompt_number": 112,
       "text": [
        "{'': 134779,\n",
        " '0': 2,\n",
        " '1755': 1,\n",
        " '1770': 1,\n",
        " '1774': 1,\n",
        " '1780': 2,\n",
        " '1790': 2,\n",
        " '1794': 1,\n",
        " '1797': 2,\n",
        " '1800': 59,\n",
        " '1801': 3,\n",
        " '1802': 4,\n",
        " '1803': 1,\n",
        " '1804': 1,\n",
        " '1805': 8,\n",
        " '1806': 5,\n",
        " '1807': 1,\n",
        " '1808': 4,\n",
        " '1809': 2,\n",
        " '1810': 18,\n",
        " '1811': 1,\n",
        " '1813': 1,\n",
        " '1814': 5,\n",
        " '1815': 6,\n",
        " '1816': 8,\n",
        " '1817': 2,\n",
        " '1818': 2,\n",
        " '1819': 2,\n",
        " '1820': 40,\n",
        " '1822': 2,\n",
        " '1823': 2,\n",
        " '1824': 3,\n",
        " '1825': 26,\n",
        " '1826': 8,\n",
        " '1827': 2,\n",
        " '1828': 2,\n",
        " '1829': 7,\n",
        " '1830': 56,\n",
        " '1831': 4,\n",
        " '1832': 7,\n",
        " '1833': 3,\n",
        " '1834': 2,\n",
        " '1835': 15,\n",
        " '1836': 10,\n",
        " '1837': 8,\n",
        " '1838': 5,\n",
        " '1839': 2,\n",
        " '1840': 71,\n",
        " '1841': 5,\n",
        " '1842': 7,\n",
        " '1843': 5,\n",
        " '1844': 5,\n",
        " '1845': 17,\n",
        " '1846': 7,\n",
        " '1847': 14,\n",
        " '1848': 15,\n",
        " '1849': 13,\n",
        " '1850': 291,\n",
        " '1851': 6,\n",
        " '1852': 14,\n",
        " '1853': 8,\n",
        " '1854': 10,\n",
        " '1855': 30,\n",
        " '1856': 26,\n",
        " '1857': 18,\n",
        " '1858': 10,\n",
        " '1859': 11,\n",
        " '1860': 212,\n",
        " '1861': 55,\n",
        " '1862': 28,\n",
        " '1863': 28,\n",
        " '1864': 24,\n",
        " '1865': 132,\n",
        " '1866': 22,\n",
        " '1867': 36,\n",
        " '1868': 28,\n",
        " '1869': 22,\n",
        " '1870': 414,\n",
        " '1871': 48,\n",
        " '1872': 97,\n",
        " '1873': 35,\n",
        " '1874': 30,\n",
        " '1875': 259,\n",
        " '1876': 124,\n",
        " '1877': 129,\n",
        " '1878': 52,\n",
        " '1879': 46,\n",
        " '1880': 2084,\n",
        " '1881': 164,\n",
        " '1882': 84,\n",
        " '1883': 52,\n",
        " '1884': 73,\n",
        " '1885': 380,\n",
        " '1886': 358,\n",
        " '1887': 316,\n",
        " '1888': 130,\n",
        " '1889': 164,\n",
        " '1890': 4977,\n",
        " '1891': 394,\n",
        " '1892': 304,\n",
        " '1893': 138,\n",
        " '1894': 147,\n",
        " '1895': 1050,\n",
        " '1896': 741,\n",
        " '1897': 550,\n",
        " '1898': 675,\n",
        " '1899': 367,\n",
        " '1900': 32689,\n",
        " '1901': 1008,\n",
        " '1902': 964,\n",
        " '1903': 644,\n",
        " '1904': 612,\n",
        " '1905': 2904,\n",
        " '1906': 1555,\n",
        " '1907': 823,\n",
        " '1908': 767,\n",
        " '1909': 473,\n",
        " '1910': 15057,\n",
        " '1911': 855,\n",
        " '1912': 958,\n",
        " '1913': 446,\n",
        " '1914': 551,\n",
        " '1915': 4323,\n",
        " '1916': 1041,\n",
        " '1917': 921,\n",
        " '1918': 1223,\n",
        " '1919': 755,\n",
        " '1920': 23193,\n",
        " '1921': 1152,\n",
        " '1922': 1400,\n",
        " '1923': 1382,\n",
        " '1924': 1940,\n",
        " '1925': 11088,\n",
        " '1926': 2784,\n",
        " '1927': 2679,\n",
        " '1928': 3427,\n",
        " '1929': 2573,\n",
        " '1930': 16256,\n",
        " '1931': 927,\n",
        " '1932': 1002,\n",
        " '1933': 601,\n",
        " '1934': 631,\n",
        " '1935': 4680,\n",
        " '1936': 1387,\n",
        " '1937': 1275,\n",
        " '1938': 2060,\n",
        " '1939': 2054,\n",
        " '1940': 12767,\n",
        " '1941': 2716,\n",
        " '1942': 2345,\n",
        " '1943': 1275,\n",
        " '1944': 803,\n",
        " '1945': 5458,\n",
        " '1946': 2647,\n",
        " '1947': 3336,\n",
        " '1948': 4984,\n",
        " '1949': 3529,\n",
        " '1950': 23428,\n",
        " '1951': 4639,\n",
        " '1952': 5807,\n",
        " '1953': 5657,\n",
        " '1954': 6172,\n",
        " '1955': 14700,\n",
        " '1956': 7276,\n",
        " '1957': 6113,\n",
        " '1958': 6365,\n",
        " '1959': 5141,\n",
        " '1960': 14680,\n",
        " '1961': 3638,\n",
        " '1962': 3746,\n",
        " '1963': 3314,\n",
        " '1964': 3408,\n",
        " '1965': 6588,\n",
        " '1966': 2752,\n",
        " '1967': 3066,\n",
        " '1968': 4110,\n",
        " '1969': 2991,\n",
        " '1970': 6257,\n",
        " '1971': 1934,\n",
        " '1972': 2961,\n",
        " '1973': 2677,\n",
        " '1974': 2762,\n",
        " '1975': 4428,\n",
        " '1976': 2627,\n",
        " '1977': 2793,\n",
        " '1978': 4454,\n",
        " '1979': 3491,\n",
        " '1980': 3502,\n",
        " '1981': 1173,\n",
        " '1982': 1550,\n",
        " '1983': 2038,\n",
        " '1984': 2114,\n",
        " '1985': 2881,\n",
        " '1986': 2480,\n",
        " '1987': 2452,\n",
        " '1988': 2031,\n",
        " '1989': 2206,\n",
        " '1990': 2634,\n",
        " '1991': 1849,\n",
        " '1992': 1845,\n",
        " '1993': 2295,\n",
        " '1994': 2073,\n",
        " '1995': 1842,\n",
        " '1996': 1486,\n",
        " '1997': 1549,\n",
        " '1998': 1642,\n",
        " '1999': 1792,\n",
        " '2000': 1787,\n",
        " '2001': 1753,\n",
        " '2002': 2140,\n",
        " '2003': 1887,\n",
        " '2004': 2221,\n",
        " '2005': 1727,\n",
        " '2006': 1905,\n",
        " '2007': 1795,\n",
        " '2008': 1617,\n",
        " '2009': 1145,\n",
        " '2010': 1360,\n",
        " '2011': 1016,\n",
        " '2012': 1453,\n",
        " '2013': 1345,\n",
        " '2014': 1432,\n",
        " '2015': 1264,\n",
        " '2016': 3}"
       ]
      }
     ],
     "prompt_number": 112
    },
    {
     "cell_type": "code",
     "collapsed": false,
     "input": [],
     "language": "python",
     "metadata": {},
     "outputs": []
    }
   ],
   "metadata": {}
  }
 ]
}
{
 "metadata": {
  "name": "",
  "signature": "sha256:064bb02cbd1255831c704b1c1ceaf5ae0fcf6495c7a2204a74611ee32811100b"
 },
 "nbformat": 3,
 "nbformat_minor": 0,
 "worksheets": [
  {
   "cells": [
    {
     "cell_type": "code",
     "collapsed": false,
     "input": [
      "# capture/alleghenycountymasterfile12012016.csv from https://data.wprdc.org/dataset/property-assessments\n",
      "# capture/Allegheny_County_Parcel_Boundaries.geojson from https://data.wprdc.org/dataset/allegheny-county-parcel-boundaries\n",
      "import array, csv, datetime, json, math, numpy, os, random\n",
      "from dateutil.parser import parse\n",
      "from shapely.geometry import mapping, shape\n",
      "from PIL import Image\n",
      "import matplotlib.colors as colors\n",
      "import matplotlib.pyplot as plt\n",
      "\n",
      "def LonLatToPixelXY(lonlat):\n",
      "    (lon, lat) = lonlat\n",
      "    x = (lon + 180.0) * 256.0 / 360.0\n",
      "    y = 128.0 - math.log(math.tan((lat + 90.0) * math.pi / 360.0)) * 128.0 / math.pi\n",
      "    return [x, y]\n",
      "\n",
      "\n",
      "def GetCentroid(geometry):\n",
      "    s = shape(geometry)\n",
      "    return (s.centroid.x, s.centroid.y)   \n",
      "\n",
      "def GetEpoch(date):\n",
      "    return (date - datetime.datetime(1970, 1, 1)).total_seconds()\n",
      "\n",
      "def HexToRgb(hex_string):\n",
      "    rgb = colors.hex2color(hex_string)\n",
      "    r,g,b = tuple([int(255*x) for x in rgb])\n",
      "    return (r,g,b)"
     ],
     "language": "python",
     "metadata": {},
     "outputs": []
    },
    {
     "cell_type": "code",
     "collapsed": false,
     "input": [
      "data = []\n",
      "with open(\"capture/alleghenycountymasterfile12012016.csv\", \"rb\") as csvfile:\n",
      "    reader = csv.DictReader(csvfile)\n",
      "    for line in reader:\n",
      "        data.append(line)\n",
      "print(len(data))\n",
      "data[10]\n"
     ],
     "language": "python",
     "metadata": {},
     "outputs": []
    },
    {
     "cell_type": "code",
     "collapsed": false,
     "input": [
      "with open(\"capture/Allegheny_County_Parcel_Boundaries.geojson\") as f:\n",
      "    parcel_json = json.load(f)\n",
      "len(parcel_json['features'])"
     ],
     "language": "python",
     "metadata": {},
     "outputs": []
    },
    {
     "cell_type": "code",
     "collapsed": false,
     "input": [
      "print parcel_json['features'][0]['properties']['PIN']\n",
      "print data[0]['PARID']"
     ],
     "language": "python",
     "metadata": {},
     "outputs": []
    },
    {
     "cell_type": "code",
     "collapsed": false,
     "input": [
      "data_idx = {}\n",
      "for i in range(0, len(data)):\n",
      "    par_id = data[i]['PARID']\n",
      "    data_idx[par_id] = i\n",
      "    \n",
      "parcel_idx = {}\n",
      "for i in range(0,len(parcel_json[\"features\"])):\n",
      "    pin = parcel_json['features'][i]['properties']['PIN']    \n",
      "    parcel_idx[pin] = i\n",
      "              "
     ],
     "language": "python",
     "metadata": {},
     "outputs": []
    },
    {
     "cell_type": "code",
     "collapsed": false,
     "input": [
      "centroids = {}\n",
      "missed = []\n",
      "for row in data:\n",
      "    par_id = row['PARID']\n",
      "    if parcel_idx.has_key(par_id):\n",
      "        parcel_id = parcel_idx[par_id]\n",
      "        centroid = GetCentroid(parcel_json[\"features\"][parcel_id][\"geometry\"])\n",
      "        centroids[par_id] = centroid\n",
      "    else:\n",
      "        missed.append(par_id)\n"
     ],
     "language": "python",
     "metadata": {},
     "outputs": []
    },
    {
     "cell_type": "code",
     "collapsed": false,
     "input": [
      "len(missed)"
     ],
     "language": "python",
     "metadata": {},
     "outputs": []
    },
    {
     "cell_type": "code",
     "collapsed": false,
     "input": [
      "points = []\n",
      "missed_parcels = 0\n",
      "for row in data:\n",
      "    par_id = row['PARID']\n",
      "    if parcel_idx.has_key(par_id):\n",
      "        parcel_id = parcel_idx[par_id]\n",
      "        centroid = GetCentroid(parcel_json[\"features\"][parcel_id][\"geometry\"])\n",
      "        points += LonLatToPixelXY(centroid)\n",
      "    else:\n",
      "        missed_parcels += 1\n",
      "array.array('f', points).tofile(open('parcels.bin', 'wb'))\n"
     ],
     "language": "python",
     "metadata": {},
     "outputs": []
    },
    {
     "cell_type": "code",
     "collapsed": false,
     "input": [
      "missed"
     ],
     "language": "python",
     "metadata": {},
     "outputs": []
    },
    {
     "cell_type": "code",
     "collapsed": false,
     "input": [
      "sale_prices = {}\n",
      "for row in data:\n",
      "    sale_price = row['SALEPRICE']\n",
      "    if not sale_prices.has_key(sale_price):\n",
      "        sale_prices[sale_price] = 1\n",
      "    else:\n",
      "        sale_prices[sale_price] += 1\n"
     ],
     "language": "python",
     "metadata": {},
     "outputs": []
    },
    {
     "cell_type": "code",
     "collapsed": false,
     "input": [
      "len(sale_prices.keys())\n"
     ],
     "language": "python",
     "metadata": {},
     "outputs": []
    },
    {
     "cell_type": "code",
     "collapsed": false,
     "input": [
      "years_built = {}\n",
      "sale_dates = {}\n",
      "fairmarket_totals = {}\n",
      "classes = {}\n",
      "class_descs = {}\n",
      "\n",
      "def incrementKey(adict,key):\n",
      "    if not adict.has_key(key):\n",
      "        adict[key] = 1\n",
      "    else:\n",
      "        adict[key] += 1\n",
      "    \n",
      "for row in data:\n",
      "    year_built = row['YEARBLT']\n",
      "    incrementKey(years_built, year_built)\n",
      "    sale_date = row['SALEDATE']\n",
      "    incrementKey(sale_dates, sale_date)\n",
      "    fairmarket_total = row['FAIRMARKETTOTAL']\n",
      "    incrementKey(fairmarket_totals, fairmarket_total)\n",
      "    class_ = row['CLASS']\n",
      "    incrementKey(classes, class_)\n",
      "    class_desc = row['CLASSDESC']\n",
      "    incrementKey(class_descs, class_desc)\n"
     ],
     "language": "python",
     "metadata": {},
     "outputs": []
    },
    {
     "cell_type": "code",
     "collapsed": false,
     "input": [
      "len(years_built.keys())\n",
      "years_built['']"
     ],
     "language": "python",
     "metadata": {},
     "outputs": []
    },
    {
     "cell_type": "code",
     "collapsed": false,
     "input": [
      "points = []\n",
      "for row in data:\n",
      "    par_id = row['PARID']\n",
      "    year_built = row['YEARBLT']\n",
      "    if year_built == '' or year_built == '0':\n",
      "        year_built = '0001' # Null Value, -62135596800.0 Epoch\n",
      "    if centroids.has_key(par_id):\n",
      "        centroid = centroids[par_id]\n",
      "        points += LonLatToPixelXY(centroid)\n",
      "        date = datetime.datetime.strptime(year_built, '%Y')        \n",
      "        points.append(GetEpoch(date))\n",
      "array.array('f', points).tofile(open('parcels.bin', 'wb'))\n"
     ],
     "language": "python",
     "metadata": {},
     "outputs": []
    },
    {
     "cell_type": "code",
     "collapsed": false,
     "input": [
      "year_built\n",
      "date = datetime.datetime.strptime('2000', '%Y')   \n",
      "GetEpoch(date)"
     ],
     "language": "python",
     "metadata": {},
     "outputs": []
    },
    {
     "cell_type": "code",
     "collapsed": false,
     "input": [
      "len(year_built"
     ],
     "language": "python",
     "metadata": {},
     "outputs": []
    },
    {
     "cell_type": "code",
     "collapsed": false,
     "input": [
      "fairmarket_totals['0']"
     ],
     "language": "python",
     "metadata": {},
     "outputs": []
    },
    {
     "cell_type": "code",
     "collapsed": false,
     "input": [
      "classes"
     ],
     "language": "python",
     "metadata": {},
     "outputs": []
    },
    {
     "cell_type": "code",
     "collapsed": false,
     "input": [
      "class_descs"
     ],
     "language": "python",
     "metadata": {},
     "outputs": []
    },
    {
     "cell_type": "code",
     "collapsed": false,
     "input": [
      "sorted(class_descs.keys())"
     ],
     "language": "python",
     "metadata": {},
     "outputs": []
    },
    {
     "cell_type": "code",
     "collapsed": false,
     "input": [
      "no_year_built = 0\n",
      "no_= 0\n",
      "for row in data:\n",
      "    year_built = row['YEARBLT']\n",
      "    class_ = row['CLASS']\n",
      "    if year_built == '' and class_ == 'R':\n",
      "        no_year_built += 1\n",
      "    elif year_built == '':\n",
      "        no_ += 1\n",
      "print no_year_built\n",
      "print no_"
     ],
     "language": "python",
     "metadata": {},
     "outputs": []
    },
    {
     "cell_type": "code",
     "collapsed": false,
     "input": [
      "class_descriptions = sorted(class_descs.keys())\n",
      "points = []\n",
      "for row in data:\n",
      "    par_id = row['PARID']\n",
      "    year_built = row['YEARBLT']\n",
      "    class_description = row['CLASSDESC']    \n",
      "    if year_built == '' or year_built == '0':\n",
      "        year_built = '0001' # Null Value, -62135596800.0 Epoch\n",
      "    if centroids.has_key(par_id):\n",
      "        centroid = centroids[par_id]\n",
      "        points += LonLatToPixelXY(centroid)\n",
      "        date = datetime.datetime.strptime(year_built, '%Y')        \n",
      "        points.append(GetEpoch(date))\n",
      "        points.append(class_descriptions.index(class_description))\n",
      "array.array('f', points).tofile(open('parcels.bin', 'wb'))\n"
     ],
     "language": "python",
     "metadata": {},
     "outputs": []
    },
    {
     "cell_type": "code",
     "collapsed": false,
     "input": [
      "foo = sorted(class_descs.keys())"
     ],
     "language": "python",
     "metadata": {},
     "outputs": []
    },
    {
     "cell_type": "code",
     "collapsed": false,
     "input": [
      "len(foo)"
     ],
     "language": "python",
     "metadata": {},
     "outputs": []
    },
    {
     "cell_type": "code",
     "collapsed": false,
     "input": [
      "parcel_colors = ['#e41a1c','#377eb8','#4daf4a','#984ea3','#ff7f00','#ffff33','#a65628']"
     ],
     "language": "python",
     "metadata": {},
     "outputs": []
    },
    {
     "cell_type": "code",
     "collapsed": false,
     "input": [
      "for color in hex_colors:\n",
      "    rgb_color = HexToRgb(color)\n",
      "    print \"%s,%s,%s\" % (rgb_color[0]/255.0, rgb_color[1]/255.0, rgb_color[2]/255.0) "
     ],
     "language": "python",
     "metadata": {},
     "outputs": []
    },
    {
     "cell_type": "code",
     "collapsed": false,
     "input": [
      "hex_colors = [\"#fb3059\",\n",
      "\"#fe6b2d\",\n",
      "\"#d1947a\",\n",
      "\"#c6a900\",\n",
      "\"#02ca75\",\n",
      "\"#00a2de\",\n",
      "\"#9529b1\"]\n",
      "for color in hex_colors:\n",
      "    rgb_color = HexToRgb(color)\n",
      "    print \"%.4f,%.4f,%.4f\" % (rgb_color[0]/255.0, rgb_color[1]/255.0, rgb_color[2]/255.0) "
     ],
     "language": "python",
     "metadata": {},
     "outputs": []
    },
    {
     "cell_type": "code",
     "collapsed": false,
     "input": [
      "hex_colors = ['#ffffff','#fffffa','#fffdf5','#fffdf1','#fffcef','#fffbed','#fffbea','#fff9e6','#fff9e3','#fff7e0','#fff7dd','#fff6db','#fff5d8','#fff4d6','#fff3d4','#fff3d2','#fff2d0','#fff0cd','#fff0cb','#ffefc8','#ffeec6','#ffedc3','#ffecc1','#ffeabe','#ffeabc','#ffe9b9','#ffe7b7','#ffe7b4','#ffe6b2','#ffe4b0','#ffe4ad','#ffe3ab','#ffe1a8','#ffe1a6','#ffe0a4','#ffdea1','#ffde9f','#ffdc9d','#ffdc9b','#ffda98','#ffd996','#ffd994','#ffd891','#ffd68f','#ffd68d','#ffd58a','#ffd388','#ffd386','#ffd284','#ffd081','#ffcf7f','#ffcf7d','#ffcd7b','#ffcc78','#ffcc76','#ffca74','#ffc971','#ffc96f','#ffc76d','#ffc76b','#ffc568','#ffc566','#ffc464','#ffc361','#ffc15d','#ffc05a','#ffbf58','#ffbe56','#ffbc53','#ffbc51','#ffba4e','#ffba4c','#ffb849','#ffb747','#ffb644','#ffb53f','#ffb43d','#ffb23a','#ffb237','#ffb134','#ffaf31','#ffaf2e','#ffad2a','#ffab24','#ffab21','#ffa91c','#ffa818','#ffa813','#ffa60b','#ffa400','#ffa300','#ffa200','#ffa100','#ff9f00','#ff9e00','#ff9d00','#ff9c00','#ff9b00','#ff9900','#ff9800','#ff9700','#ff9500','#ff9500','#ff9300','#ff9100','#ff9000','#ff8f00','#ff8d00','#ff8c00','#ff8a00','#ff8a00','#fe8800','#fe8800','#fe8700','#fe8400','#fd8400','#fd8300','#fd8200','#fd8000','#fc7f00','#fc7d00','#fc7c00','#fc7b00','#fb7a00','#fb7900','#fb7800','#fa7700','#fa7400','#fa7400','#f97200','#f97100','#f87000','#f86e00','#f86e00','#f76d00','#f76c00','#f66a00','#f66900','#f56800','#f56600','#f46600','#f46400','#f36400','#f36200','#f36100','#f26000','#f15e00','#f15d00','#f05d00','#ef5b00','#ef5900','#ef5900','#ee5800','#ed5700','#ed5500','#ec5500','#eb5400','#ea5200','#ea5100','#e95000','#e84f00','#e84e00','#e74c00','#e74b00','#e64a00','#e54900','#e44800','#e44700','#e34600','#e34500','#e14400','#e14300','#e04100','#df4000','#de4000','#de3e00','#dd3d00','#dc3d00','#db3c00','#db3a00','#da3900','#d83800','#d83700','#d73600','#d63500','#d63401','#d43301','#d43201','#d23101','#d13001','#d12e01','#d02e01','#d02d01','#ce2c01','#ce2b01','#cd2a01','#cc2901','#ca2801','#c92701','#c92601','#c82501','#c72401','#c62301','#c52201','#c42102','#c32002','#c21f02','#c01e02','#bf1d02','#bf1c02','#be1b02','#bd1a02','#bc1902','#ba1902','#ba1802','#b81702','#b81602','#b71502','#b51402','#b51302','#b41202','#b21202','#b11102','#b01002','#af0e02','#ae0d02','#ac0d02','#ac0c02','#aa0b02','#a90a02','#a80902','#a80902','#a60802','#a50702','#a30602','#a30602','#a20502','#a00502','#a00402','#9e0302','#9c0302','#9b0302','#9b0201','#9a0201','#990201','#970101','#950101','#950101','#940101','#920001','#920001','#900001','#8f0000','#8d0000','#8d0000','#8b0000']\n",
      "\n",
      "img = Image.new( 'RGB', (255,255), \"white\") # create a new image\n",
      "pixels = img.load() # create the pixel map\n",
      "for i in range(img.size[0]):    # for every pixel:\n",
      "    for j in range(img.size[1]):\n",
      "        pixels[i,j] = hex_to_rgb(hex_colors[i]) # set the colour accordingly\n",
      "img.show\n",
      "img.save(\"year-built-color-map.png\")\n"
     ],
     "language": "python",
     "metadata": {},
     "outputs": []
    },
    {
     "cell_type": "code",
     "collapsed": false,
     "input": [
      "hex_stops =  ['#1d1e4e','#482045','#6f1f4b','#8d2747','#aa3f4c','#a9513f','#ba663a','#cf8139','#e59f44','#e9bb76']\n",
      "hex_colors = ['#1d1e4e','#201e4e','#241e4d','#261e4d','#291e4c','#291f4c','#2b1f4c','#2d1f4b','#301f4b','#331f4a','#341f4a','#371f49','#381f49','#3b1f48','#3d1f48','#3d1f48','#3f2047','#402047','#432046','#452046','#462046','#482045','#492045','#4b2045','#4d2046','#4d2046','#502046','#502046','#522047','#532047','#552047','#562047','#572047','#5a2048','#5b2048','#5c2048','#5d2048','#5e2048','#602049','#622049','#632049','#652049','#65204a','#67204a','#69204a','#6b1f4a','#6b1f4a','#6c1f4b','#6f1f4b','#701f4b','#711f4b','#72204b','#72204b','#75204a','#75214a','#76214a','#77214a','#78214a','#7a224a','#7a224a','#7d2249','#7d2249','#7e2349','#7f2349','#802449','#812449','#832448','#842548','#852548','#862548','#882548','#882648','#892648','#8b2647','#8b2747','#8d2747','#8e2847','#8e2847','#902947','#902948','#912a48','#922b48','#932c48','#932c48','#952d48','#952d48','#952e49','#972f49','#973049','#983049','#993149','#9a3249','#9a3249','#9c334a','#9c334a','#9d354a','#9d354a','#9f364a','#9f364a','#a0374a','#a1384a','#a2384b','#a2394b','#a33a4b','#a43a4b','#a43b4b','#a63c4b','#a73c4b','#a83d4c','#a83d4c','#a93e4c','#a93f4c','#aa414b','#aa424a','#aa4349','#aa4448','#aa4747','#aa4846','#a94b44','#a94b43','#a94d43','#a94e41','#a94f40','#a9513f','#a9523f','#aa523f','#ab533e','#ac543e','#ac543e','#ad563e','#ad563e','#ae573e','#ae583e','#af593d','#b05a3d','#b05a3d','#b15b3d','#b15b3d','#b25d3c','#b35d3c','#b35e3c','#b45f3c','#b55f3c','#b5603c','#b6623b','#b6623b','#b7623b','#b8643b','#b9643b','#b9653a','#ba653a','#ba673a','#bb683a','#bb683a','#bc683a','#bd693a','#bd6a3a','#bd6a3a','#be6c3a','#bf6c3a','#c06d3a','#c16e3a','#c16e3a','#c16f3a','#c2713a','#c2713a','#c3723a','#c4733a','#c5743a','#c5753a','#c5753a','#c6753a','#c7773a','#c8773a','#c87939','#c97939','#c97939','#ca7a39','#ca7b39','#cb7c39','#cc7d39','#cc7e39','#cd7e39','#ce7f39','#ce8039','#cf8139','#cf8139','#d08239','#d0833a','#d1843a','#d2843a','#d2853b','#d2863b','#d3873b','#d4883b','#d5883c','#d5893c','#d58a3c','#d68b3c','#d78c3d','#d78d3d','#d88d3d','#d88d3e','#d98f3e','#da8f3e','#da903f','#da913f','#db923f','#dc933f','#dc9340','#dd9340','#dd9440','#de9641','#df9641','#df9741','#e09741','#e09942','#e19942','#e19a42','#e29a42','#e29c43','#e39d43','#e49d43','#e59e44','#e59e44','#e59f45','#e5a047','#e6a149','#e6a24b','#e6a44c','#e6a54e','#e6a650','#e6a652','#e6a652','#e7a754','#e7a855','#e7aa57','#e7ab59','#e7ab5b','#e7ac5d','#e8ae5e','#e8af60','#e8af62','#e8b063','#e8b165','#e8b265','#e8b367','#e8b469','#e8b56b','#e9b66c','#e9b76e','#e9b870','#e9b872','#e9ba73','#e9ba75','#e9bb76']"
     ],
     "language": "python",
     "metadata": {},
     "outputs": []
    },
    {
     "cell_type": "code",
     "collapsed": false,
     "input": [
      "hex_colors.index(hex_stops[9])"
     ],
     "language": "python",
     "metadata": {},
     "outputs": []
    },
    {
     "cell_type": "code",
     "collapsed": false,
     "input": [
      "years_built"
     ],
     "language": "python",
     "metadata": {},
     "outputs": []
    },
    {
     "cell_type": "code",
     "collapsed": false,
     "input": [
      "hex_stops = ['#f7fbff','#deebf7','#c6dbef','#9ecae1','#6baed6','#4292c6','#2171b5','#08519c','#08306b']"
     ],
     "language": "python",
     "metadata": {},
     "outputs": []
    },
    {
     "cell_type": "code",
     "collapsed": false,
     "input": [
      "for i in hex_stops:\n",
      "  print i + \",\""
     ],
     "language": "python",
     "metadata": {},
     "outputs": []
    },
    {
     "cell_type": "code",
     "collapsed": false,
     "input": [
      "hex_stops = ['#ffffe0','#dcfac5','#b8f4ab','#90ee90','#6dc88c','#46a386','#008080','#265a81','#233381','#000080']\n",
      "for color in hex_stops:\n",
      "    rgb_color = HexToRgb(color)\n",
      "    print \"%.4f,%.4f,%.4f\" % (rgb_color[0]/255.0, rgb_color[1]/255.0, rgb_color[2]/255.0) "
     ],
     "language": "python",
     "metadata": {},
     "outputs": []
    },
    {
     "cell_type": "code",
     "collapsed": false,
     "input": [
      "hex_stops = ['#1d1e4e','#5f2049','#8c2747','#aa414b','#ba653a','#d0823a','#e5a045','#ebc07f','#f7e0af','#ffffe0']\n",
      "years = [1880,1895,1910,1925,1940,1955,1970,1985,2000,2015]"
     ],
     "language": "python",
     "metadata": {},
     "outputs": []
    },
    {
     "cell_type": "code",
     "collapsed": false,
     "input": [
      "for i in range(0,10):\n",
      "    print \"if (year < %s) {\" % (years[i])\n",
      "    rgb_color = HexToRgb(hex_stops[i])\n",
      "    print \"  color = vec4(%.4f,%.4f,%.4f,1.0)\" % (rgb_color[0]/255.0, rgb_color[1]/255.0, rgb_color[2]/255.0)\n",
      "    print \"}\""
     ],
     "language": "python",
     "metadata": {},
     "outputs": []
    },
    {
     "cell_type": "code",
     "collapsed": false,
     "input": [
      "len(years)"
     ],
     "language": "python",
     "metadata": {},
     "outputs": []
    },
    {
     "cell_type": "code",
     "collapsed": false,
     "input": [
      "hex_colors = ['#ffffe0','#ffeec1','#ffdea7','#ffcb91','#ffb880','#ffa474','#fe906a','#f87d64','#f06a5e','#e75758','#db4551','#cf3447','#c0223b','#b0122c','#9e051b','#8b0000']\n",
      "img = Image.new( 'RGB', (255,255), \"white\") # create a new image\n",
      "pixels = img.load() # create the pixel map\n",
      "for i in range(img.size[0]):    # for every pixel:\n",
      "    for j in range(img.size[1]):\n",
      "        pixels[i,j] = hex_to_rgb(hex_colors[i/16]) # set the colour accordingly\n",
      "img.show()\n",
      "img.save(\"year-built-color-map.png\")\n",
      "\n"
     ],
     "language": "python",
     "metadata": {},
     "outputs": []
    },
    {
     "cell_type": "code",
     "collapsed": false,
     "input": [
      "parcel_colors = ['#e41a1c','#377eb8','#4daf4a','#984ea3','#ff7f00','#ffff33','#a65628']\n",
      "parcel_colors = ['#fb3059','#fe6b2d','#d1947a','#c6a900','#02ca75','#00a2de','#9529b1']\n",
      "\n",
      "year_built_colors = ['#ffffe0','#ffeec1','#ffdea7','#ffcb91','#ffb880','#ffa474','#fe906a','#f87d64','#f06a5e','#e75758','#db4551','#cf3447','#c0223b','#b0122c','#9e051b','#8b0000']\n",
      "year_built_colors = ['#ffffe0','#ffdaa3','#ffb27c','#fb8768','#eb5f5b','#d3394a','#b3152f','#8b0000']\n",
      "img = Image.new( 'RGB', (255,255), \"white\") # create a new image\n",
      "pixels = img.load() # create the pixel map\n",
      "for i in range(0,len(parcel_colors)):\n",
      "    pixels[0,i] = HexToRgb(parcel_colors[i]) # set the colour accordingly\n",
      "j = 0\n",
      "for i in list(reversed(range(len(year_built_colors)))):\n",
      "    pixels[1,j] = HexToRgb(year_built_colors[i]) # set the colour accordingly\n",
      "    j += 1\n",
      "#img.show()\n",
      "img.save(\"color-map.png\")\n"
     ],
     "language": "python",
     "metadata": {},
     "outputs": []
    },
    {
     "cell_type": "code",
     "collapsed": false,
     "input": [],
     "language": "python",
     "metadata": {},
     "outputs": []
    },
    {
     "cell_type": "code",
     "collapsed": false,
     "input": [
      "class_descriptions = sorted(class_descs.keys())\n",
      "points = []\n",
      "for row in data:\n",
      "    par_id = row['PARID']\n",
      "    year_built = row['YEARBLT']\n",
      "    class_description = row['CLASSDESC']    \n",
      "    if year_built == '' or year_built == '0':\n",
      "        year_built = '0001' # Null Value, -62135596800.0 Epoch\n",
      "    if centroids.has_key(par_id):\n",
      "        centroid = centroids[par_id]\n",
      "        points += LonLatToPixelXY(centroid)        \n",
      "        points.append(float(year_built))\n",
      "        points.append(class_descriptions.index(class_description)+1.0)\n",
      "array.array('f', points).tofile(open('parcels.bin', 'wb'))\n"
     ],
     "language": "python",
     "metadata": {},
     "outputs": []
    },
    {
     "cell_type": "code",
     "collapsed": false,
     "input": [
      "sorted(class_descs.keys())"
     ],
     "language": "python",
     "metadata": {},
     "outputs": []
    },
    {
     "cell_type": "code",
     "collapsed": false,
     "input": [
      "class_descriptions.index('RESIDENTIAL')"
     ],
     "language": "python",
     "metadata": {},
     "outputs": []
    },
    {
     "cell_type": "code",
     "collapsed": false,
     "input": [
      "points[10000:10005]"
     ],
     "language": "python",
     "metadata": {},
     "outputs": []
    },
    {
     "cell_type": "code",
     "collapsed": false,
     "input": [
      "def scale_year(year):\n",
      "    if year < 1800.0: \n",
      "        year = 1800.0\n",
      "    return int(((year - 1800.0) * 16.0) / (2016.0-1800.))\n"
     ],
     "language": "python",
     "metadata": {},
     "outputs": []
    },
    {
     "cell_type": "code",
     "collapsed": false,
     "input": [
      "scale_year(2016.0)"
     ],
     "language": "python",
     "metadata": {},
     "outputs": []
    },
    {
     "cell_type": "code",
     "collapsed": false,
     "input": [
      "len(year_built_colors)"
     ],
     "language": "python",
     "metadata": {},
     "outputs": []
    },
    {
     "cell_type": "code",
     "collapsed": false,
     "input": [
      "j = 0\n",
      "for i in list(reversed(range(len(year_built_colors)))):\n",
      "    print '<rect fill=\"%s\" x=\"%s\" height=\"10\" width=\"25\" stroke-width=\"1px\" stroke=\"#666\"></rect>' % (year_built_colors[i],j*25)\n",
      "    j += 1\n",
      "    \n",
      "j = 0\n",
      "for i in list(reversed(range(len(year_built_colors)))):\n",
      "    print '<text font-size=\"10.5px\" fill=\"%s\" y=\"29\" x=\"%s\">%s</text>' % (year_built_colors[i], j*25, 1800)\n",
      "    j += 1\n"
     ],
     "language": "python",
     "metadata": {},
     "outputs": []
    },
    {
     "cell_type": "code",
     "collapsed": false,
     "input": [
      "list(reversed(range(10)))"
     ],
     "language": "python",
     "metadata": {},
     "outputs": []
    },
    {
     "cell_type": "code",
     "collapsed": false,
     "input": [
      "len(fairmarket_totals)"
     ],
     "language": "python",
     "metadata": {},
     "outputs": []
    },
    {
     "cell_type": "code",
     "collapsed": false,
     "input": [
      "fm_keys = sorted(map(int,fairmarket_totals.keys()))"
     ],
     "language": "python",
     "metadata": {},
     "outputs": []
    },
    {
     "cell_type": "code",
     "collapsed": false,
     "input": [
      "numpy.average(fm_keys)"
     ],
     "language": "python",
     "metadata": {},
     "outputs": []
    },
    {
     "cell_type": "code",
     "collapsed": false,
     "input": [
      "numpy.mean(fm_keys)"
     ],
     "language": "python",
     "metadata": {},
     "outputs": []
    },
    {
     "cell_type": "code",
     "collapsed": false,
     "input": [
      "numpy.std(fm_keys)"
     ],
     "language": "python",
     "metadata": {},
     "outputs": []
    },
    {
     "cell_type": "code",
     "collapsed": false,
     "input": [
      "fairmarket_totals['50000']"
     ],
     "language": "python",
     "metadata": {},
     "outputs": []
    },
    {
     "cell_type": "code",
     "collapsed": false,
     "input": [
      "parcel_colors = ['#fb3059','#fe6b2d','#d1947a','#c6a900','#02ca75','#00a2de','#9529b1']\n",
      "year_built_colors = ['#ffffe0','#ffdaa3','#ffb27c','#fb8768','#eb5f5b','#d3394a','#b3152f','#8b0000']\n",
      "fm_colors = ['#a50026','#cd2827','#e75436','#f7804b','#fdad61','#fed788','#ffffbf','#b9e0ed','#8dc0db','#699fca','#4d7db9','#3e5aa7','#313695'\n",
      "]\n",
      "\n",
      "img = Image.new( 'RGB', (255,255), \"white\") # create a new image\n",
      "pixels = img.load() # create the pixel map\n",
      "for i in range(0,len(parcel_colors)):\n",
      "    pixels[0,i] = HexToRgb(parcel_colors[i]) # set the colour accordingly\n",
      "j = 0\n",
      "for i in list(reversed(range(len(year_built_colors)))):\n",
      "    pixels[1,j] = HexToRgb(year_built_colors[i]) # set the colour accordingly\n",
      "    j += 1\n",
      "for i in range(0,len(fm_colors)):\n",
      "    pixels[2,i] = HexToRgb(fm_colors[i]) # set the colour accordingly\n",
      "    \n",
      "#img.show()\n",
      "img.save(\"color-map.png\")\n"
     ],
     "language": "python",
     "metadata": {},
     "outputs": []
    },
    {
     "cell_type": "code",
     "collapsed": false,
     "input": [
      "class_descriptions = sorted(class_descs.keys())\n",
      "points = []\n",
      "for row in data:\n",
      "    par_id = row['PARID']\n",
      "    year_built = row['YEARBLT']\n",
      "    class_description = row['CLASSDESC']    \n",
      "    fm_total = float(row['FAIRMARKETTOTAL'])    \n",
      "    if year_built == '' or year_built == '0':\n",
      "        year_built = '0001' # Null Value, -62135596800.0 Epoch\n",
      "    if centroids.has_key(par_id):\n",
      "        centroid = centroids[par_id]\n",
      "        points += LonLatToPixelXY(centroid)        \n",
      "        points.append(float(year_built))\n",
      "        points.append(class_descriptions.index(class_description)+1.0)\n",
      "        points.append(fm_total)\n",
      "array.array('f', points).tofile(open('parcels.bin', 'wb'))\n"
     ],
     "language": "python",
     "metadata": {},
     "outputs": []
    },
    {
     "cell_type": "code",
     "collapsed": false,
     "input": [
      "fairmarket_totals['0']"
     ],
     "language": "python",
     "metadata": {},
     "outputs": []
    },
    {
     "cell_type": "code",
     "collapsed": false,
     "input": [
      "plt.plot(map(int,fairmarket_totals.keys()), fairmarket_totals.values(), 'ro')\n",
      "plt.show()"
     ],
     "language": "python",
     "metadata": {},
     "outputs": []
    },
    {
     "cell_type": "code",
     "collapsed": false,
     "input": [
      "fm_keys[len(fm_keys) - 100:len(fm_keys)]"
     ],
     "language": "python",
     "metadata": {},
     "outputs": []
    },
    {
     "cell_type": "code",
     "collapsed": false,
     "input": [
      "fm_values = [\"0\", \"25K\", \"50K\", \"75K\", \"100K\", \"125K\", \"150K\", \"200K\", \"250K\", \"300K\", \"400K\", \"500K\", \"+500K\"]\n",
      "for i in range(len(fm_colors)):\n",
      "    print '<rect fill=\"%s\" x=\"%s\" height=\"10\" width=\"30\"></rect>' % (fm_colors[i],i*30)\n",
      "    \n",
      "for i in range(len(fm_values)):\n",
      "    print '<text font-size=\"10.5px\" y=\"29\" x=\"%s\">%s</text>' % (i*30, fm_values[i])\n"
     ],
     "language": "python",
     "metadata": {},
     "outputs": []
    },
    {
     "cell_type": "code",
     "collapsed": false,
     "input": [],
     "language": "python",
     "metadata": {},
     "outputs": []
    }
   ],
   "metadata": {}
  }
 ]
}